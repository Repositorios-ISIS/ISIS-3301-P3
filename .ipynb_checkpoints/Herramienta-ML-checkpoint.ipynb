{
 "cells": [
  {
   "cell_type": "markdown",
   "metadata": {},
   "source": [
    "![](/banner.png)"
   ]
  },
  {
   "cell_type": "markdown",
   "metadata": {},
   "source": [
    "![](banner.png)\n",
    "# Objetivos\n",
    "+ Cargar los datos de una base de datos oltp y realizar limpieza\n",
    "+ Perfilar los datos recibidos\n",
    "+ Conseguir un conjunto de datos relacionado con toda la información a excluyendo municipio\n",
    "+ Conseguir un conjunto de datos relacionado únicamente con los totales por municipio en cada año\n",
    "\n",
    "# Carga de librerias"
   ]
  },
  {
   "cell_type": "code",
   "execution_count": 193,
   "metadata": {},
   "outputs": [],
   "source": [
    "#Librerias para trabajar los datos\n",
    "import pandas as pd\n",
    "import numpy as np\n",
    "\n",
    "#Librerias para visualizar los datos\n",
    "import matplotlib.pyplot as plt\n",
    "import seaborn as sns\n",
    "from sklearn.cluster import KMeans\n",
    "#Otras\n",
    "import math\n",
    "from matplotlib import cm\n",
    "import category_encoders as ce\n",
    "from sklearn.model_selection import train_test_split\n",
    "from sklearn.linear_model import LogisticRegression\n",
    "from sklearn import metrics\n",
    "\n",
    "from sklearn.metrics import silhouette_samples, silhouette_score\n",
    "from sklearn.preprocessing import MinMaxScaler\n",
    "\n",
    "\n",
    "# just in case\n",
    "\n",
    "seed = 161\n",
    "import numpy as np\n",
    "import pandas as pd\n",
    "import matplotlib.pyplot as plt\n",
    "import seaborn as sns; sns.set()\n",
    "\n",
    "from sklearn.preprocessing import StandardScaler\n",
    "from sklearn.cluster import KMeans\n",
    "from sklearn.mixture import GaussianMixture\n",
    "from sklearn.metrics import silhouette_samples, silhouette_score\n",
    "\n",
    "from matplotlib import cm\n",
    "from mpl_toolkits.mplot3d import Axes3D # for 3D plots\n",
    "\n",
    "from sklearn.preprocessing import OneHotEncoder\n",
    "\n",
    "from sklearn.preprocessing import MinMaxScaler"
   ]
  },
  {
   "cell_type": "markdown",
   "metadata": {},
   "source": [
    "# Carga de datos"
   ]
  },
  {
   "cell_type": "code",
   "execution_count": 124,
   "metadata": {},
   "outputs": [],
   "source": [
    "#Carga de los datos principales\n",
    "df_main = pd.read_csv('/data/data_generateddata_ready.csv',sep=',',index_col=False,low_memory=False)"
   ]
  },
  {
   "cell_type": "code",
   "execution_count": 125,
   "metadata": {},
   "outputs": [
    {
     "data": {
      "text/html": [
       "<div>\n",
       "<style scoped>\n",
       "    .dataframe tbody tr th:only-of-type {\n",
       "        vertical-align: middle;\n",
       "    }\n",
       "\n",
       "    .dataframe tbody tr th {\n",
       "        vertical-align: top;\n",
       "    }\n",
       "\n",
       "    .dataframe thead th {\n",
       "        text-align: right;\n",
       "    }\n",
       "</style>\n",
       "<table border=\"1\" class=\"dataframe\">\n",
       "  <thead>\n",
       "    <tr style=\"text-align: right;\">\n",
       "      <th></th>\n",
       "      <th>anio</th>\n",
       "      <th>codigo_depto</th>\n",
       "      <th>nombre_depto</th>\n",
       "      <th>nombre_muni</th>\n",
       "      <th>codigo_muni</th>\n",
       "      <th>codigo_evento</th>\n",
       "      <th>evento</th>\n",
       "      <th>edad</th>\n",
       "      <th>sexo</th>\n",
       "      <th>num_casos</th>\n",
       "      <th>población</th>\n",
       "    </tr>\n",
       "  </thead>\n",
       "  <tbody>\n",
       "    <tr>\n",
       "      <th>0</th>\n",
       "      <td>2020</td>\n",
       "      <td>5</td>\n",
       "      <td>Antioquia</td>\n",
       "      <td>Abejorral</td>\n",
       "      <td>5002</td>\n",
       "      <td>102</td>\n",
       "      <td>Tuberculosis</td>\n",
       "      <td>15-44 años</td>\n",
       "      <td>Hombres</td>\n",
       "      <td>1</td>\n",
       "      <td>4393</td>\n",
       "    </tr>\n",
       "    <tr>\n",
       "      <th>1</th>\n",
       "      <td>2020</td>\n",
       "      <td>5</td>\n",
       "      <td>Antioquia</td>\n",
       "      <td>Abejorral</td>\n",
       "      <td>5002</td>\n",
       "      <td>501</td>\n",
       "      <td>Accidentes de transporte terrestre</td>\n",
       "      <td>15-44 años</td>\n",
       "      <td>Hombres</td>\n",
       "      <td>1</td>\n",
       "      <td>4393</td>\n",
       "    </tr>\n",
       "    <tr>\n",
       "      <th>2</th>\n",
       "      <td>2020</td>\n",
       "      <td>5</td>\n",
       "      <td>Antioquia</td>\n",
       "      <td>Abejorral</td>\n",
       "      <td>5002</td>\n",
       "      <td>511</td>\n",
       "      <td>Lesiones autoinfligidas intencionalmente (suic...</td>\n",
       "      <td>15-44 años</td>\n",
       "      <td>Hombres</td>\n",
       "      <td>1</td>\n",
       "      <td>4393</td>\n",
       "    </tr>\n",
       "    <tr>\n",
       "      <th>3</th>\n",
       "      <td>2020</td>\n",
       "      <td>5</td>\n",
       "      <td>Antioquia</td>\n",
       "      <td>Abejorral</td>\n",
       "      <td>5002</td>\n",
       "      <td>512</td>\n",
       "      <td>Agresiones (homicidios)</td>\n",
       "      <td>15-44 años</td>\n",
       "      <td>Hombres</td>\n",
       "      <td>1</td>\n",
       "      <td>4393</td>\n",
       "    </tr>\n",
       "    <tr>\n",
       "      <th>4</th>\n",
       "      <td>2020</td>\n",
       "      <td>5</td>\n",
       "      <td>Antioquia</td>\n",
       "      <td>Abejorral</td>\n",
       "      <td>5002</td>\n",
       "      <td>108</td>\n",
       "      <td>Infecciones respiratorias agudas</td>\n",
       "      <td>65+ años</td>\n",
       "      <td>Hombres</td>\n",
       "      <td>1</td>\n",
       "      <td>1358</td>\n",
       "    </tr>\n",
       "  </tbody>\n",
       "</table>\n",
       "</div>"
      ],
      "text/plain": [
       "   anio  codigo_depto nombre_depto nombre_muni  codigo_muni  codigo_evento  \\\n",
       "0  2020             5    Antioquia   Abejorral         5002            102   \n",
       "1  2020             5    Antioquia   Abejorral         5002            501   \n",
       "2  2020             5    Antioquia   Abejorral         5002            511   \n",
       "3  2020             5    Antioquia   Abejorral         5002            512   \n",
       "4  2020             5    Antioquia   Abejorral         5002            108   \n",
       "\n",
       "                                              evento        edad     sexo  \\\n",
       "0                                       Tuberculosis  15-44 años  Hombres   \n",
       "1                 Accidentes de transporte terrestre  15-44 años  Hombres   \n",
       "2  Lesiones autoinfligidas intencionalmente (suic...  15-44 años  Hombres   \n",
       "3                            Agresiones (homicidios)  15-44 años  Hombres   \n",
       "4                   Infecciones respiratorias agudas    65+ años  Hombres   \n",
       "\n",
       "   num_casos  población  \n",
       "0          1       4393  \n",
       "1          1       4393  \n",
       "2          1       4393  \n",
       "3          1       4393  \n",
       "4          1       1358  "
      ]
     },
     "execution_count": 125,
     "metadata": {},
     "output_type": "execute_result"
    }
   ],
   "source": [
    "df_main.head()"
   ]
  },
  {
   "cell_type": "markdown",
   "metadata": {},
   "source": [
    "# Limpieza\n",
    "## Datos principales\n",
    "En principio vamos a eliminar los elementos que calculan totales en el dataframe para que todas las filas representen lo mismo"
   ]
  },
  {
   "cell_type": "code",
   "execution_count": 126,
   "metadata": {},
   "outputs": [],
   "source": [
    "df_main = df_main.drop(df_main[df_main['codigo_depto']=='TOTAL'].index)\n",
    "df_main = df_main.drop(df_main[df_main['nombre_depto']=='TOTAL'].index)\n",
    "df_main = df_main.drop(df_main[df_main['nombre_muni']=='TOTAL'].index)\n",
    "df_main = df_main.drop(df_main[df_main['codigo_muni']=='TOTAL'].index)\n",
    "df_main = df_main.drop(df_main[df_main['codigo_evento']=='TOTAL'].index)\n",
    "df_main = df_main.drop(df_main[df_main['evento']=='TOTAL'].index)\n",
    "df_main = df_main.drop(df_main[df_main['edad']=='TOTAL'].index)\n",
    "df_main = df_main.drop(df_main[df_main['sexo']=='TOTAL'].index)"
   ]
  },
  {
   "cell_type": "markdown",
   "metadata": {},
   "source": [
    "Luego revisamos los tipos de datos y transformamos lo que sea necesario"
   ]
  },
  {
   "cell_type": "code",
   "execution_count": 127,
   "metadata": {
    "scrolled": true
   },
   "outputs": [
    {
     "name": "stdout",
     "output_type": "stream",
     "text": [
      "<class 'pandas.core.frame.DataFrame'>\n",
      "Int64Index: 42254 entries, 0 to 42253\n",
      "Data columns (total 11 columns):\n",
      " #   Column         Non-Null Count  Dtype \n",
      "---  ------         --------------  ----- \n",
      " 0   anio           42254 non-null  int64 \n",
      " 1   codigo_depto   42254 non-null  int64 \n",
      " 2   nombre_depto   42254 non-null  object\n",
      " 3   nombre_muni    42254 non-null  object\n",
      " 4   codigo_muni    42254 non-null  int64 \n",
      " 5   codigo_evento  42254 non-null  int64 \n",
      " 6   evento         42254 non-null  object\n",
      " 7   edad           42254 non-null  object\n",
      " 8   sexo           42254 non-null  object\n",
      " 9   num_casos      42254 non-null  int64 \n",
      " 10  población      42254 non-null  int64 \n",
      "dtypes: int64(6), object(5)\n",
      "memory usage: 4.9+ MB\n"
     ]
    }
   ],
   "source": [
    "df_main.info()"
   ]
  },
  {
   "cell_type": "code",
   "execution_count": 128,
   "metadata": {},
   "outputs": [],
   "source": [
    "def arreglar_tipos(v_types:dict) -> None:\n",
    "    for value in v_types:\n",
    "        try:\n",
    "            df_main[value] = df_main[value].astype(v_types[value])\n",
    "        except Exception as e:\n",
    "            print(f'error in value {value}',str(e))\n",
    "        \n",
    "value_types = {'anio':'int64','codigo_depto':'int64','nombre_depto':'string',\n",
    "               'nombre_muni':'string','codigo_muni':'int64','codigo_evento':'int64',\n",
    "               'evento':'string','sexo':'string','edad':'string','num_casos':'int64'\n",
    "              }\n",
    "\n",
    "arreglar_tipos(value_types)"
   ]
  },
  {
   "cell_type": "markdown",
   "metadata": {},
   "source": [
    "Vemos que en la columna codigo_depto hay un elemento llamado 'Extranjeros', asi que lo vamos a cambiar por el código 100"
   ]
  },
  {
   "cell_type": "code",
   "execution_count": 129,
   "metadata": {},
   "outputs": [],
   "source": [
    "df_main['codigo_depto'] = df_main['codigo_depto'].apply(lambda x : 100 if x == 'Extranjeros' else x)"
   ]
  },
  {
   "cell_type": "code",
   "execution_count": 130,
   "metadata": {},
   "outputs": [],
   "source": [
    "def porcentaje (row):\n",
    "    return row['num_casos']/row['población']"
   ]
  },
  {
   "cell_type": "code",
   "execution_count": 131,
   "metadata": {},
   "outputs": [],
   "source": [
    "df_main['porcentaje'] = df_main.apply (lambda row: porcentaje(row), axis=1)"
   ]
  },
  {
   "cell_type": "code",
   "execution_count": 132,
   "metadata": {},
   "outputs": [
    {
     "data": {
      "text/html": [
       "<div>\n",
       "<style scoped>\n",
       "    .dataframe tbody tr th:only-of-type {\n",
       "        vertical-align: middle;\n",
       "    }\n",
       "\n",
       "    .dataframe tbody tr th {\n",
       "        vertical-align: top;\n",
       "    }\n",
       "\n",
       "    .dataframe thead th {\n",
       "        text-align: right;\n",
       "    }\n",
       "</style>\n",
       "<table border=\"1\" class=\"dataframe\">\n",
       "  <thead>\n",
       "    <tr style=\"text-align: right;\">\n",
       "      <th></th>\n",
       "      <th>anio</th>\n",
       "      <th>codigo_depto</th>\n",
       "      <th>nombre_depto</th>\n",
       "      <th>nombre_muni</th>\n",
       "      <th>codigo_muni</th>\n",
       "      <th>codigo_evento</th>\n",
       "      <th>evento</th>\n",
       "      <th>edad</th>\n",
       "      <th>sexo</th>\n",
       "      <th>num_casos</th>\n",
       "      <th>población</th>\n",
       "      <th>porcentaje</th>\n",
       "    </tr>\n",
       "  </thead>\n",
       "  <tbody>\n",
       "    <tr>\n",
       "      <th>0</th>\n",
       "      <td>2020</td>\n",
       "      <td>5</td>\n",
       "      <td>Antioquia</td>\n",
       "      <td>Abejorral</td>\n",
       "      <td>5002</td>\n",
       "      <td>102</td>\n",
       "      <td>Tuberculosis</td>\n",
       "      <td>15-44 años</td>\n",
       "      <td>Hombres</td>\n",
       "      <td>1</td>\n",
       "      <td>4393</td>\n",
       "      <td>0.000228</td>\n",
       "    </tr>\n",
       "    <tr>\n",
       "      <th>1</th>\n",
       "      <td>2020</td>\n",
       "      <td>5</td>\n",
       "      <td>Antioquia</td>\n",
       "      <td>Abejorral</td>\n",
       "      <td>5002</td>\n",
       "      <td>501</td>\n",
       "      <td>Accidentes de transporte terrestre</td>\n",
       "      <td>15-44 años</td>\n",
       "      <td>Hombres</td>\n",
       "      <td>1</td>\n",
       "      <td>4393</td>\n",
       "      <td>0.000228</td>\n",
       "    </tr>\n",
       "    <tr>\n",
       "      <th>2</th>\n",
       "      <td>2020</td>\n",
       "      <td>5</td>\n",
       "      <td>Antioquia</td>\n",
       "      <td>Abejorral</td>\n",
       "      <td>5002</td>\n",
       "      <td>511</td>\n",
       "      <td>Lesiones autoinfligidas intencionalmente (suic...</td>\n",
       "      <td>15-44 años</td>\n",
       "      <td>Hombres</td>\n",
       "      <td>1</td>\n",
       "      <td>4393</td>\n",
       "      <td>0.000228</td>\n",
       "    </tr>\n",
       "    <tr>\n",
       "      <th>3</th>\n",
       "      <td>2020</td>\n",
       "      <td>5</td>\n",
       "      <td>Antioquia</td>\n",
       "      <td>Abejorral</td>\n",
       "      <td>5002</td>\n",
       "      <td>512</td>\n",
       "      <td>Agresiones (homicidios)</td>\n",
       "      <td>15-44 años</td>\n",
       "      <td>Hombres</td>\n",
       "      <td>1</td>\n",
       "      <td>4393</td>\n",
       "      <td>0.000228</td>\n",
       "    </tr>\n",
       "    <tr>\n",
       "      <th>4</th>\n",
       "      <td>2020</td>\n",
       "      <td>5</td>\n",
       "      <td>Antioquia</td>\n",
       "      <td>Abejorral</td>\n",
       "      <td>5002</td>\n",
       "      <td>108</td>\n",
       "      <td>Infecciones respiratorias agudas</td>\n",
       "      <td>65+ años</td>\n",
       "      <td>Hombres</td>\n",
       "      <td>1</td>\n",
       "      <td>1358</td>\n",
       "      <td>0.000736</td>\n",
       "    </tr>\n",
       "  </tbody>\n",
       "</table>\n",
       "</div>"
      ],
      "text/plain": [
       "   anio  codigo_depto nombre_depto nombre_muni  codigo_muni  codigo_evento  \\\n",
       "0  2020             5    Antioquia   Abejorral         5002            102   \n",
       "1  2020             5    Antioquia   Abejorral         5002            501   \n",
       "2  2020             5    Antioquia   Abejorral         5002            511   \n",
       "3  2020             5    Antioquia   Abejorral         5002            512   \n",
       "4  2020             5    Antioquia   Abejorral         5002            108   \n",
       "\n",
       "                                              evento        edad     sexo  \\\n",
       "0                                       Tuberculosis  15-44 años  Hombres   \n",
       "1                 Accidentes de transporte terrestre  15-44 años  Hombres   \n",
       "2  Lesiones autoinfligidas intencionalmente (suic...  15-44 años  Hombres   \n",
       "3                            Agresiones (homicidios)  15-44 años  Hombres   \n",
       "4                   Infecciones respiratorias agudas    65+ años  Hombres   \n",
       "\n",
       "   num_casos  población  porcentaje  \n",
       "0          1       4393    0.000228  \n",
       "1          1       4393    0.000228  \n",
       "2          1       4393    0.000228  \n",
       "3          1       4393    0.000228  \n",
       "4          1       1358    0.000736  "
      ]
     },
     "execution_count": 132,
     "metadata": {},
     "output_type": "execute_result"
    }
   ],
   "source": [
    "df_main.head()"
   ]
  },
  {
   "cell_type": "code",
   "execution_count": 133,
   "metadata": {},
   "outputs": [],
   "source": [
    "df_main[\"c/1000\"] = df_main[\"num_casos\"] / df_main[\"población\"] * 1000\n",
    "df_main[\"c/1000\"] = df_main[\"c/1000\"].apply(lambda x : round(x,5))\n",
    "df_main[\"c/10000\"] = df_main[\"num_casos\"] / df_main[\"población\"] * 10000\n",
    "df_main[\"c/10000\"] = df_main[\"c/10000\"].apply(lambda x : round(x,5))\n",
    "df_main[\"c/100000\"] = df_main[\"num_casos\"] / df_main[\"población\"] * 100000\n",
    "df_main[\"c/100000\"] = df_main[\"c/100000\"].apply(lambda x : round(x,5))"
   ]
  },
  {
   "cell_type": "code",
   "execution_count": 134,
   "metadata": {},
   "outputs": [
    {
     "data": {
      "text/html": [
       "<div>\n",
       "<style scoped>\n",
       "    .dataframe tbody tr th:only-of-type {\n",
       "        vertical-align: middle;\n",
       "    }\n",
       "\n",
       "    .dataframe tbody tr th {\n",
       "        vertical-align: top;\n",
       "    }\n",
       "\n",
       "    .dataframe thead th {\n",
       "        text-align: right;\n",
       "    }\n",
       "</style>\n",
       "<table border=\"1\" class=\"dataframe\">\n",
       "  <thead>\n",
       "    <tr style=\"text-align: right;\">\n",
       "      <th></th>\n",
       "      <th>anio</th>\n",
       "      <th>codigo_depto</th>\n",
       "      <th>nombre_depto</th>\n",
       "      <th>nombre_muni</th>\n",
       "      <th>codigo_muni</th>\n",
       "      <th>codigo_evento</th>\n",
       "      <th>evento</th>\n",
       "      <th>edad</th>\n",
       "      <th>sexo</th>\n",
       "      <th>num_casos</th>\n",
       "      <th>población</th>\n",
       "      <th>porcentaje</th>\n",
       "      <th>c/1000</th>\n",
       "      <th>c/10000</th>\n",
       "      <th>c/100000</th>\n",
       "    </tr>\n",
       "  </thead>\n",
       "  <tbody>\n",
       "    <tr>\n",
       "      <th>0</th>\n",
       "      <td>2020</td>\n",
       "      <td>5</td>\n",
       "      <td>Antioquia</td>\n",
       "      <td>Abejorral</td>\n",
       "      <td>5002</td>\n",
       "      <td>102</td>\n",
       "      <td>Tuberculosis</td>\n",
       "      <td>15-44 años</td>\n",
       "      <td>Hombres</td>\n",
       "      <td>1</td>\n",
       "      <td>4393</td>\n",
       "      <td>0.000228</td>\n",
       "      <td>0.22763</td>\n",
       "      <td>2.27635</td>\n",
       "      <td>22.76349</td>\n",
       "    </tr>\n",
       "    <tr>\n",
       "      <th>1</th>\n",
       "      <td>2020</td>\n",
       "      <td>5</td>\n",
       "      <td>Antioquia</td>\n",
       "      <td>Abejorral</td>\n",
       "      <td>5002</td>\n",
       "      <td>501</td>\n",
       "      <td>Accidentes de transporte terrestre</td>\n",
       "      <td>15-44 años</td>\n",
       "      <td>Hombres</td>\n",
       "      <td>1</td>\n",
       "      <td>4393</td>\n",
       "      <td>0.000228</td>\n",
       "      <td>0.22763</td>\n",
       "      <td>2.27635</td>\n",
       "      <td>22.76349</td>\n",
       "    </tr>\n",
       "    <tr>\n",
       "      <th>2</th>\n",
       "      <td>2020</td>\n",
       "      <td>5</td>\n",
       "      <td>Antioquia</td>\n",
       "      <td>Abejorral</td>\n",
       "      <td>5002</td>\n",
       "      <td>511</td>\n",
       "      <td>Lesiones autoinfligidas intencionalmente (suic...</td>\n",
       "      <td>15-44 años</td>\n",
       "      <td>Hombres</td>\n",
       "      <td>1</td>\n",
       "      <td>4393</td>\n",
       "      <td>0.000228</td>\n",
       "      <td>0.22763</td>\n",
       "      <td>2.27635</td>\n",
       "      <td>22.76349</td>\n",
       "    </tr>\n",
       "    <tr>\n",
       "      <th>3</th>\n",
       "      <td>2020</td>\n",
       "      <td>5</td>\n",
       "      <td>Antioquia</td>\n",
       "      <td>Abejorral</td>\n",
       "      <td>5002</td>\n",
       "      <td>512</td>\n",
       "      <td>Agresiones (homicidios)</td>\n",
       "      <td>15-44 años</td>\n",
       "      <td>Hombres</td>\n",
       "      <td>1</td>\n",
       "      <td>4393</td>\n",
       "      <td>0.000228</td>\n",
       "      <td>0.22763</td>\n",
       "      <td>2.27635</td>\n",
       "      <td>22.76349</td>\n",
       "    </tr>\n",
       "    <tr>\n",
       "      <th>4</th>\n",
       "      <td>2020</td>\n",
       "      <td>5</td>\n",
       "      <td>Antioquia</td>\n",
       "      <td>Abejorral</td>\n",
       "      <td>5002</td>\n",
       "      <td>108</td>\n",
       "      <td>Infecciones respiratorias agudas</td>\n",
       "      <td>65+ años</td>\n",
       "      <td>Hombres</td>\n",
       "      <td>1</td>\n",
       "      <td>1358</td>\n",
       "      <td>0.000736</td>\n",
       "      <td>0.73638</td>\n",
       "      <td>7.36377</td>\n",
       "      <td>73.63770</td>\n",
       "    </tr>\n",
       "  </tbody>\n",
       "</table>\n",
       "</div>"
      ],
      "text/plain": [
       "   anio  codigo_depto nombre_depto nombre_muni  codigo_muni  codigo_evento  \\\n",
       "0  2020             5    Antioquia   Abejorral         5002            102   \n",
       "1  2020             5    Antioquia   Abejorral         5002            501   \n",
       "2  2020             5    Antioquia   Abejorral         5002            511   \n",
       "3  2020             5    Antioquia   Abejorral         5002            512   \n",
       "4  2020             5    Antioquia   Abejorral         5002            108   \n",
       "\n",
       "                                              evento        edad     sexo  \\\n",
       "0                                       Tuberculosis  15-44 años  Hombres   \n",
       "1                 Accidentes de transporte terrestre  15-44 años  Hombres   \n",
       "2  Lesiones autoinfligidas intencionalmente (suic...  15-44 años  Hombres   \n",
       "3                            Agresiones (homicidios)  15-44 años  Hombres   \n",
       "4                   Infecciones respiratorias agudas    65+ años  Hombres   \n",
       "\n",
       "   num_casos  población  porcentaje   c/1000  c/10000  c/100000  \n",
       "0          1       4393    0.000228  0.22763  2.27635  22.76349  \n",
       "1          1       4393    0.000228  0.22763  2.27635  22.76349  \n",
       "2          1       4393    0.000228  0.22763  2.27635  22.76349  \n",
       "3          1       4393    0.000228  0.22763  2.27635  22.76349  \n",
       "4          1       1358    0.000736  0.73638  7.36377  73.63770  "
      ]
     },
     "execution_count": 134,
     "metadata": {},
     "output_type": "execute_result"
    }
   ],
   "source": [
    "df_main.head()"
   ]
  },
  {
   "cell_type": "code",
   "execution_count": 135,
   "metadata": {},
   "outputs": [],
   "source": [
    "df_main = df_main.drop(columns=['num_casos','población','porcentaje','c/1000','c/100000'])"
   ]
  },
  {
   "cell_type": "code",
   "execution_count": 136,
   "metadata": {},
   "outputs": [
    {
     "data": {
      "text/html": [
       "<div>\n",
       "<style scoped>\n",
       "    .dataframe tbody tr th:only-of-type {\n",
       "        vertical-align: middle;\n",
       "    }\n",
       "\n",
       "    .dataframe tbody tr th {\n",
       "        vertical-align: top;\n",
       "    }\n",
       "\n",
       "    .dataframe thead th {\n",
       "        text-align: right;\n",
       "    }\n",
       "</style>\n",
       "<table border=\"1\" class=\"dataframe\">\n",
       "  <thead>\n",
       "    <tr style=\"text-align: right;\">\n",
       "      <th></th>\n",
       "      <th>anio</th>\n",
       "      <th>codigo_depto</th>\n",
       "      <th>nombre_depto</th>\n",
       "      <th>nombre_muni</th>\n",
       "      <th>codigo_muni</th>\n",
       "      <th>codigo_evento</th>\n",
       "      <th>evento</th>\n",
       "      <th>edad</th>\n",
       "      <th>sexo</th>\n",
       "      <th>c/10000</th>\n",
       "    </tr>\n",
       "  </thead>\n",
       "  <tbody>\n",
       "    <tr>\n",
       "      <th>0</th>\n",
       "      <td>2020</td>\n",
       "      <td>5</td>\n",
       "      <td>Antioquia</td>\n",
       "      <td>Abejorral</td>\n",
       "      <td>5002</td>\n",
       "      <td>102</td>\n",
       "      <td>Tuberculosis</td>\n",
       "      <td>15-44 años</td>\n",
       "      <td>Hombres</td>\n",
       "      <td>2.27635</td>\n",
       "    </tr>\n",
       "    <tr>\n",
       "      <th>1</th>\n",
       "      <td>2020</td>\n",
       "      <td>5</td>\n",
       "      <td>Antioquia</td>\n",
       "      <td>Abejorral</td>\n",
       "      <td>5002</td>\n",
       "      <td>501</td>\n",
       "      <td>Accidentes de transporte terrestre</td>\n",
       "      <td>15-44 años</td>\n",
       "      <td>Hombres</td>\n",
       "      <td>2.27635</td>\n",
       "    </tr>\n",
       "    <tr>\n",
       "      <th>2</th>\n",
       "      <td>2020</td>\n",
       "      <td>5</td>\n",
       "      <td>Antioquia</td>\n",
       "      <td>Abejorral</td>\n",
       "      <td>5002</td>\n",
       "      <td>511</td>\n",
       "      <td>Lesiones autoinfligidas intencionalmente (suic...</td>\n",
       "      <td>15-44 años</td>\n",
       "      <td>Hombres</td>\n",
       "      <td>2.27635</td>\n",
       "    </tr>\n",
       "    <tr>\n",
       "      <th>3</th>\n",
       "      <td>2020</td>\n",
       "      <td>5</td>\n",
       "      <td>Antioquia</td>\n",
       "      <td>Abejorral</td>\n",
       "      <td>5002</td>\n",
       "      <td>512</td>\n",
       "      <td>Agresiones (homicidios)</td>\n",
       "      <td>15-44 años</td>\n",
       "      <td>Hombres</td>\n",
       "      <td>2.27635</td>\n",
       "    </tr>\n",
       "    <tr>\n",
       "      <th>4</th>\n",
       "      <td>2020</td>\n",
       "      <td>5</td>\n",
       "      <td>Antioquia</td>\n",
       "      <td>Abejorral</td>\n",
       "      <td>5002</td>\n",
       "      <td>108</td>\n",
       "      <td>Infecciones respiratorias agudas</td>\n",
       "      <td>65+ años</td>\n",
       "      <td>Hombres</td>\n",
       "      <td>7.36377</td>\n",
       "    </tr>\n",
       "  </tbody>\n",
       "</table>\n",
       "</div>"
      ],
      "text/plain": [
       "   anio  codigo_depto nombre_depto nombre_muni  codigo_muni  codigo_evento  \\\n",
       "0  2020             5    Antioquia   Abejorral         5002            102   \n",
       "1  2020             5    Antioquia   Abejorral         5002            501   \n",
       "2  2020             5    Antioquia   Abejorral         5002            511   \n",
       "3  2020             5    Antioquia   Abejorral         5002            512   \n",
       "4  2020             5    Antioquia   Abejorral         5002            108   \n",
       "\n",
       "                                              evento        edad     sexo  \\\n",
       "0                                       Tuberculosis  15-44 años  Hombres   \n",
       "1                 Accidentes de transporte terrestre  15-44 años  Hombres   \n",
       "2  Lesiones autoinfligidas intencionalmente (suic...  15-44 años  Hombres   \n",
       "3                            Agresiones (homicidios)  15-44 años  Hombres   \n",
       "4                   Infecciones respiratorias agudas    65+ años  Hombres   \n",
       "\n",
       "   c/10000  \n",
       "0  2.27635  \n",
       "1  2.27635  \n",
       "2  2.27635  \n",
       "3  2.27635  \n",
       "4  7.36377  "
      ]
     },
     "execution_count": 136,
     "metadata": {},
     "output_type": "execute_result"
    }
   ],
   "source": [
    "df_main.head()"
   ]
  },
  {
   "cell_type": "code",
   "execution_count": 137,
   "metadata": {},
   "outputs": [
    {
     "name": "stdout",
     "output_type": "stream",
     "text": [
      "<class 'pandas.core.frame.DataFrame'>\n",
      "Int64Index: 42254 entries, 0 to 42253\n",
      "Data columns (total 10 columns):\n",
      " #   Column         Non-Null Count  Dtype  \n",
      "---  ------         --------------  -----  \n",
      " 0   anio           42254 non-null  int64  \n",
      " 1   codigo_depto   42254 non-null  int64  \n",
      " 2   nombre_depto   42254 non-null  string \n",
      " 3   nombre_muni    42254 non-null  string \n",
      " 4   codigo_muni    42254 non-null  int64  \n",
      " 5   codigo_evento  42254 non-null  int64  \n",
      " 6   evento         42254 non-null  string \n",
      " 7   edad           42254 non-null  string \n",
      " 8   sexo           42254 non-null  string \n",
      " 9   c/10000        42254 non-null  float64\n",
      "dtypes: float64(1), int64(4), string(5)\n",
      "memory usage: 4.6 MB\n"
     ]
    }
   ],
   "source": [
    "df_main.info()"
   ]
  },
  {
   "cell_type": "markdown",
   "metadata": {},
   "source": [
    "Volvemos a intentar castear tipos"
   ]
  },
  {
   "cell_type": "code",
   "execution_count": 138,
   "metadata": {},
   "outputs": [
    {
     "data": {
      "text/plain": [
       "(42254, 10)"
      ]
     },
     "execution_count": 138,
     "metadata": {},
     "output_type": "execute_result"
    }
   ],
   "source": [
    "df_main.shape\n"
   ]
  },
  {
   "cell_type": "code",
   "execution_count": 139,
   "metadata": {},
   "outputs": [
    {
     "data": {
      "text/plain": [
       "anio             0\n",
       "codigo_depto     0\n",
       "nombre_depto     0\n",
       "nombre_muni      0\n",
       "codigo_muni      0\n",
       "codigo_evento    0\n",
       "evento           0\n",
       "edad             0\n",
       "sexo             0\n",
       "c/10000          0\n",
       "dtype: int64"
      ]
     },
     "execution_count": 139,
     "metadata": {},
     "output_type": "execute_result"
    }
   ],
   "source": [
    "df_main.isnull().sum(axis=0)"
   ]
  },
  {
   "cell_type": "markdown",
   "metadata": {},
   "source": [
    "Todo correcto"
   ]
  },
  {
   "cell_type": "markdown",
   "metadata": {},
   "source": [
    "# Transformaciones\n",
    "En caso de no contar con la cantidad de población determinada para algún grupo vamos a retirar esta información por lo que retiraremos los valores referentes a:\n",
    "+ Muertes en el extranjero (columna codigo_depto con el valor 100)\n",
    "+ Muertes de sexo indeterminado (columna sexo con el valor \"Indeterminado\")\n",
    "+ Muertes de edad desconocida (columna edad con valor \"Edad Desconocida\")"
   ]
  },
  {
   "cell_type": "code",
   "execution_count": 140,
   "metadata": {
    "scrolled": true
   },
   "outputs": [
    {
     "data": {
      "text/html": [
       "<div>\n",
       "<style scoped>\n",
       "    .dataframe tbody tr th:only-of-type {\n",
       "        vertical-align: middle;\n",
       "    }\n",
       "\n",
       "    .dataframe tbody tr th {\n",
       "        vertical-align: top;\n",
       "    }\n",
       "\n",
       "    .dataframe thead th {\n",
       "        text-align: right;\n",
       "    }\n",
       "</style>\n",
       "<table border=\"1\" class=\"dataframe\">\n",
       "  <thead>\n",
       "    <tr style=\"text-align: right;\">\n",
       "      <th></th>\n",
       "      <th></th>\n",
       "      <th></th>\n",
       "      <th></th>\n",
       "      <th></th>\n",
       "      <th></th>\n",
       "      <th></th>\n",
       "      <th>codigo_muni</th>\n",
       "      <th>c/10000</th>\n",
       "    </tr>\n",
       "    <tr>\n",
       "      <th>sexo</th>\n",
       "      <th>anio</th>\n",
       "      <th>edad</th>\n",
       "      <th>codigo_depto</th>\n",
       "      <th>nombre_depto</th>\n",
       "      <th>codigo_evento</th>\n",
       "      <th>evento</th>\n",
       "      <th></th>\n",
       "      <th></th>\n",
       "    </tr>\n",
       "  </thead>\n",
       "  <tbody>\n",
       "    <tr>\n",
       "      <th rowspan=\"5\" valign=\"top\">Hombres</th>\n",
       "      <th rowspan=\"5\" valign=\"top\">2020</th>\n",
       "      <th rowspan=\"5\" valign=\"top\">0-4 años</th>\n",
       "      <th rowspan=\"5\" valign=\"top\">5</th>\n",
       "      <th rowspan=\"5\" valign=\"top\">Antioquia</th>\n",
       "      <th>0</th>\n",
       "      <th>Signos, síntomas y afecciones mal definidas</th>\n",
       "      <td>21842</td>\n",
       "      <td>16.38934</td>\n",
       "    </tr>\n",
       "    <tr>\n",
       "      <th>101</th>\n",
       "      <th>Enfermedades infecciosas intestinales</th>\n",
       "      <td>20635</td>\n",
       "      <td>22.01371</td>\n",
       "    </tr>\n",
       "    <tr>\n",
       "      <th>105</th>\n",
       "      <th>Meningitis</th>\n",
       "      <td>16417</td>\n",
       "      <td>29.44498</td>\n",
       "    </tr>\n",
       "    <tr>\n",
       "      <th>106</th>\n",
       "      <th>Septicemia, excepto neonatal</th>\n",
       "      <td>17043</td>\n",
       "      <td>16.74798</td>\n",
       "    </tr>\n",
       "    <tr>\n",
       "      <th>108</th>\n",
       "      <th>Infecciones respiratorias agudas</th>\n",
       "      <td>22505</td>\n",
       "      <td>32.24550</td>\n",
       "    </tr>\n",
       "    <tr>\n",
       "      <th>...</th>\n",
       "      <th>...</th>\n",
       "      <th>...</th>\n",
       "      <th>...</th>\n",
       "      <th>...</th>\n",
       "      <th>...</th>\n",
       "      <th>...</th>\n",
       "      <td>...</td>\n",
       "      <td>...</td>\n",
       "    </tr>\n",
       "    <tr>\n",
       "      <th rowspan=\"5\" valign=\"top\">Mujeres</th>\n",
       "      <th rowspan=\"5\" valign=\"top\">2020</th>\n",
       "      <th rowspan=\"5\" valign=\"top\">65+ años</th>\n",
       "      <th rowspan=\"5\" valign=\"top\">99</th>\n",
       "      <th rowspan=\"5\" valign=\"top\">Vichada</th>\n",
       "      <th>302</th>\n",
       "      <th>Enfermedades hipertensivas</th>\n",
       "      <td>99773</td>\n",
       "      <td>9.19118</td>\n",
       "    </tr>\n",
       "    <tr>\n",
       "      <th>303</th>\n",
       "      <th>Enfermedades isquémicas del corazón</th>\n",
       "      <td>198525</td>\n",
       "      <td>114.72868</td>\n",
       "    </tr>\n",
       "    <tr>\n",
       "      <th>601</th>\n",
       "      <th>Diabetes mellitus</th>\n",
       "      <td>199297</td>\n",
       "      <td>53.63562</td>\n",
       "    </tr>\n",
       "    <tr>\n",
       "      <th>605</th>\n",
       "      <th>Enfermedades crónicas de las vías respiratorias inferiores</th>\n",
       "      <td>99001</td>\n",
       "      <td>25.83979</td>\n",
       "    </tr>\n",
       "    <tr>\n",
       "      <th>609</th>\n",
       "      <th>Resto de enfermedades del sistema digestivo</th>\n",
       "      <td>99773</td>\n",
       "      <td>9.19118</td>\n",
       "    </tr>\n",
       "  </tbody>\n",
       "</table>\n",
       "<p>8455 rows × 2 columns</p>\n",
       "</div>"
      ],
      "text/plain": [
       "                                                                                                                  codigo_muni  \\\n",
       "sexo    anio edad     codigo_depto nombre_depto codigo_evento evento                                                            \n",
       "Hombres 2020 0-4 años 5            Antioquia    0             Signos, síntomas y afecciones mal definidas               21842   \n",
       "                                                101           Enfermedades infecciosas intestinales                     20635   \n",
       "                                                105           Meningitis                                                16417   \n",
       "                                                106           Septicemia, excepto neonatal                              17043   \n",
       "                                                108           Infecciones respiratorias agudas                          22505   \n",
       "...                                                                                                                       ...   \n",
       "Mujeres 2020 65+ años 99           Vichada      302           Enfermedades hipertensivas                                99773   \n",
       "                                                303           Enfermedades isquémicas del corazón                      198525   \n",
       "                                                601           Diabetes mellitus                                        199297   \n",
       "                                                605           Enfermedades crónicas de las vías respiratorias...        99001   \n",
       "                                                609           Resto de enfermedades del sistema digestivo               99773   \n",
       "\n",
       "                                                                                                                    c/10000  \n",
       "sexo    anio edad     codigo_depto nombre_depto codigo_evento evento                                                         \n",
       "Hombres 2020 0-4 años 5            Antioquia    0             Signos, síntomas y afecciones mal definidas          16.38934  \n",
       "                                                101           Enfermedades infecciosas intestinales                22.01371  \n",
       "                                                105           Meningitis                                           29.44498  \n",
       "                                                106           Septicemia, excepto neonatal                         16.74798  \n",
       "                                                108           Infecciones respiratorias agudas                     32.24550  \n",
       "...                                                                                                                     ...  \n",
       "Mujeres 2020 65+ años 99           Vichada      302           Enfermedades hipertensivas                            9.19118  \n",
       "                                                303           Enfermedades isquémicas del corazón                 114.72868  \n",
       "                                                601           Diabetes mellitus                                    53.63562  \n",
       "                                                605           Enfermedades crónicas de las vías respiratorias...   25.83979  \n",
       "                                                609           Resto de enfermedades del sistema digestivo           9.19118  \n",
       "\n",
       "[8455 rows x 2 columns]"
      ]
     },
     "execution_count": 140,
     "metadata": {},
     "output_type": "execute_result"
    }
   ],
   "source": [
    "df_main.groupby(['sexo','anio','edad','codigo_depto','nombre_depto','codigo_evento','evento']).sum()\n"
   ]
  },
  {
   "cell_type": "code",
   "execution_count": 141,
   "metadata": {},
   "outputs": [],
   "source": [
    "#solo hay 1 año (2020)\n",
    "df_main = df_main.drop(['codigo_depto','codigo_muni','codigo_evento','nombre_muni','anio'],axis = 1)"
   ]
  },
  {
   "cell_type": "code",
   "execution_count": 142,
   "metadata": {},
   "outputs": [],
   "source": [
    "encoder = ce.OneHotEncoder(cols=\"sexo\", use_cat_names=True)\n",
    "dfmod = encoder.fit_transform(df_main)"
   ]
  },
  {
   "cell_type": "code",
   "execution_count": 143,
   "metadata": {},
   "outputs": [
    {
     "data": {
      "text/html": [
       "<div>\n",
       "<style scoped>\n",
       "    .dataframe tbody tr th:only-of-type {\n",
       "        vertical-align: middle;\n",
       "    }\n",
       "\n",
       "    .dataframe tbody tr th {\n",
       "        vertical-align: top;\n",
       "    }\n",
       "\n",
       "    .dataframe thead th {\n",
       "        text-align: right;\n",
       "    }\n",
       "</style>\n",
       "<table border=\"1\" class=\"dataframe\">\n",
       "  <thead>\n",
       "    <tr style=\"text-align: right;\">\n",
       "      <th></th>\n",
       "      <th>nombre_depto</th>\n",
       "      <th>evento</th>\n",
       "      <th>edad</th>\n",
       "      <th>sexo_Hombres</th>\n",
       "      <th>sexo_Mujeres</th>\n",
       "      <th>c/10000</th>\n",
       "    </tr>\n",
       "  </thead>\n",
       "  <tbody>\n",
       "    <tr>\n",
       "      <th>0</th>\n",
       "      <td>Antioquia</td>\n",
       "      <td>Tuberculosis</td>\n",
       "      <td>15-44 años</td>\n",
       "      <td>1</td>\n",
       "      <td>0</td>\n",
       "      <td>2.27635</td>\n",
       "    </tr>\n",
       "    <tr>\n",
       "      <th>1</th>\n",
       "      <td>Antioquia</td>\n",
       "      <td>Accidentes de transporte terrestre</td>\n",
       "      <td>15-44 años</td>\n",
       "      <td>1</td>\n",
       "      <td>0</td>\n",
       "      <td>2.27635</td>\n",
       "    </tr>\n",
       "    <tr>\n",
       "      <th>2</th>\n",
       "      <td>Antioquia</td>\n",
       "      <td>Lesiones autoinfligidas intencionalmente (suic...</td>\n",
       "      <td>15-44 años</td>\n",
       "      <td>1</td>\n",
       "      <td>0</td>\n",
       "      <td>2.27635</td>\n",
       "    </tr>\n",
       "    <tr>\n",
       "      <th>3</th>\n",
       "      <td>Antioquia</td>\n",
       "      <td>Agresiones (homicidios)</td>\n",
       "      <td>15-44 años</td>\n",
       "      <td>1</td>\n",
       "      <td>0</td>\n",
       "      <td>2.27635</td>\n",
       "    </tr>\n",
       "    <tr>\n",
       "      <th>4</th>\n",
       "      <td>Antioquia</td>\n",
       "      <td>Infecciones respiratorias agudas</td>\n",
       "      <td>65+ años</td>\n",
       "      <td>1</td>\n",
       "      <td>0</td>\n",
       "      <td>7.36377</td>\n",
       "    </tr>\n",
       "  </tbody>\n",
       "</table>\n",
       "</div>"
      ],
      "text/plain": [
       "  nombre_depto                                             evento        edad  \\\n",
       "0    Antioquia                                       Tuberculosis  15-44 años   \n",
       "1    Antioquia                 Accidentes de transporte terrestre  15-44 años   \n",
       "2    Antioquia  Lesiones autoinfligidas intencionalmente (suic...  15-44 años   \n",
       "3    Antioquia                            Agresiones (homicidios)  15-44 años   \n",
       "4    Antioquia                   Infecciones respiratorias agudas    65+ años   \n",
       "\n",
       "   sexo_Hombres  sexo_Mujeres  c/10000  \n",
       "0             1             0  2.27635  \n",
       "1             1             0  2.27635  \n",
       "2             1             0  2.27635  \n",
       "3             1             0  2.27635  \n",
       "4             1             0  7.36377  "
      ]
     },
     "execution_count": 143,
     "metadata": {},
     "output_type": "execute_result"
    }
   ],
   "source": [
    "dfmod.head()"
   ]
  },
  {
   "cell_type": "code",
   "execution_count": 144,
   "metadata": {},
   "outputs": [
    {
     "data": {
      "text/plain": [
       "(42254, 5)"
      ]
     },
     "execution_count": 144,
     "metadata": {},
     "output_type": "execute_result"
    }
   ],
   "source": [
    "df_main.shape"
   ]
  },
  {
   "cell_type": "code",
   "execution_count": 145,
   "metadata": {},
   "outputs": [
    {
     "data": {
      "text/plain": [
       "(42254, 6)"
      ]
     },
     "execution_count": 145,
     "metadata": {},
     "output_type": "execute_result"
    }
   ],
   "source": [
    "dfmod.shape"
   ]
  },
  {
   "cell_type": "code",
   "execution_count": 146,
   "metadata": {},
   "outputs": [
    {
     "name": "stdout",
     "output_type": "stream",
     "text": [
      "<StringArray>\n",
      "[                                                                                               'Tuberculosis',\n",
      "                                                                          'Accidentes de transporte terrestre',\n",
      "                                                        'Lesiones autoinfligidas intencionalmente (suicidios)',\n",
      "                                                                                     'Agresiones (homicidios)',\n",
      "                                                                            'Infecciones respiratorias agudas',\n",
      "                            'Tumor maligno de los órganos digestivos y del peritoneo excepto estómago y colon',\n",
      "                                                                                'Tumor maligno de la próstata',\n",
      "                                                                                  'Enfermedades hipertensivas',\n",
      "                                                                         'Enfermedades isquémicas del corazón',\n",
      " 'Enfermedad cardiopulmonar, enfermedades de la circulación pulmonar y otras formas de enfermedad del corazón',\n",
      "                                                                                      'Insuficiencia cardíaca',\n",
      "                                                                              'Enfermedades cerebrovasculares',\n",
      "                                                       'Enfermedades del sistema nervioso, excepto meningitis',\n",
      "                                                  'Enfermedades crónicas de las vías respiratorias inferiores',\n",
      "                                                              'Resto de enfermedades del sistema respiratorio',\n",
      "                                                                 'Resto de enfermedades del sistema digestivo',\n",
      "                                                                           'Enfermedades del sistema urinario',\n",
      "                                                    'Resto de ciertas enfermedades infecciosas y parasitarias',\n",
      "                                                        'Tumor maligno del colon y de la unión rectosigmoidea',\n",
      "                                          'Tumores malignos de otras localizaciones y de las no especificadas',\n",
      "                                                                                           'Diabetes mellitus',\n",
      "                                                    'Cirrosis y ciertas otras enfermedades cróncas del hígado',\n",
      "                                                                                   'Resto de las enfermedades',\n",
      "                                                      'Tumor maligno de la tráquea, los bronquios y el pulmón',\n",
      "                                                                        'Tumor maligno de la mama de la mujer',\n",
      "                                                                        'Otros accidentes, inclusive secuelas',\n",
      "                                        'Apendicitis, hernia de la cavidad abdominal y obstrucción intestinal',\n",
      "                                                                       'Enfermedades infecciosas intestinales',\n",
      "                                                                                'Septicemia, excepto neonatal',\n",
      "                                                                                  'Tumor maligno del estómago',\n",
      "                    'Tumor maligno del tejido linfático, de otros órganos hematopoyéticos y de tejidos afines',\n",
      "                                                                                                    'Leucemia',\n",
      "                                                                        'Ahogamiento y sumersión accidentales',\n",
      "                                                                         'Eventos de intención no determinada',\n",
      "                                                  'Trastornos respiratorios específicos del período perinatal',\n",
      "                                            'Malformaciones congénitas, deformidades y anomalías cromosómicas',\n",
      "                                                                 'Signos, síntomas y afecciones mal definidas',\n",
      "                                   'Tumores in situ, beningnos y los de comportamiento incierto o desconocido',\n",
      "                                                                         'Exposición a la corriente eléctrica',\n",
      "                                                                                'Enfermedad por el VIH (SIDA)',\n",
      "                                                                                              'Aterosclerosis',\n",
      "                                                              'Tumor maligno del útero, parte no especificada',\n",
      "                                                              'Tumor maligno de otros órganos genitourinarios',\n",
      "                                                          'Deficiencias nutricionales y anemias nutricionales',\n",
      "                                                                    'Trastornos mentales y del comportamiento',\n",
      "                                                                          'Tumor maligno del cuello del útero',\n",
      "            'Tumor maligno de los órganos respiratorios e intratorácicos, excepto tráquea, bronquios y pulmón',\n",
      "                                                             'Las demás enfermedades del sistema circulatorio',\n",
      "                                                                     'Accidentes que obstruyen la respiración',\n",
      "                                                                                                  'Meningitis',\n",
      "                     'Retardo del crecimiento fetal, desnutrición fetal, gestación corta y bajo peso al nacer',\n",
      "                                                                                                      'Caídas',\n",
      "                                                                          'Exposición al humo, fuego y llamas',\n",
      "                                               'Envenenamiento accidental por exposición a sustancias nocivas',\n",
      "                                              'Resto de ciertas afecciones originadas en el período perinatal',\n",
      "                                                                                 'Embarazo, parto y puerperio',\n",
      "                  'Feto y recién nacido afectados por complicaciones obstétricas y traumatismo del nacimiento',\n",
      "                                                                         'Sepsis bacteriana del recién nacido',\n",
      "                                                                          'Tumor maligno del cuerpo del útero',\n",
      "                                                                                   'Las demás causas externas',\n",
      "                                                                                  'Hiperplasia de la próstata',\n",
      "                                                                     'Accidentes por disparo de arma de fuego',\n",
      "                                                   'Los demás accidentes de transporte y los no especificados',\n",
      "                                                                      'Ciertas enfermedades inmunoprevenibles',\n",
      "                                                     'Ciertas enfermedades transmisibles por vectores y rabia',\n",
      "                                              'Feto y recién nacido afectados por ciertas afecciones maternas',\n",
      "                                                   'Fiebre reumática aguda y enfermedades reumáticas crónicas']\n",
      "Length: 67, dtype: string\n"
     ]
    }
   ],
   "source": [
    "print(df_main['evento'].unique())"
   ]
  },
  {
   "cell_type": "code",
   "execution_count": 147,
   "metadata": {},
   "outputs": [],
   "source": [
    "dfmod.loc[dfmod['evento'].str.contains('enfermedad',  case=False), 'evento'] = 'CAUSA_NATURAL'\n",
    "dfmod.loc[dfmod['evento'].str.contains('tumor',  case=False), 'evento'] = 'CAUSA_NATURAL'\n",
    "dfmod.loc[dfmod['evento'].str.contains('infeccion',  case=False), 'evento'] = 'CAUSA_NATURAL'\n",
    "dfmod.loc[dfmod['evento'].str.contains('leucemia',  case=False), 'evento'] = 'CAUSA_NATURAL'\n",
    "dfmod.loc[dfmod['evento'].str.contains('tuberculosis',  case=False), 'evento'] = 'CAUSA_NATURAL'\n",
    "dfmod.loc[dfmod['evento'].str.contains('insuficiencia',  case=False), 'evento'] = 'CAUSA_NATURAL'\n",
    "dfmod.loc[dfmod['evento'].str.contains('diabetes',  case=False), 'evento'] = 'CAUSA_NATURAL'\n",
    "dfmod.loc[dfmod['evento'].str.contains('apendicitis',  case=False), 'evento'] = 'CAUSA_NATURAL'\n",
    "dfmod.loc[dfmod['evento'].str.contains('trastorno',  case=False), 'evento'] = 'CAUSA_NATURAL'\n",
    "dfmod.loc[dfmod['evento'].str.contains('malformacion',  case=False), 'evento'] = 'CAUSA_NATURAL'\n",
    "dfmod.loc[dfmod['evento'].str.contains('signos',  case=False), 'evento'] = 'INDETERMINADA'\n",
    "dfmod.loc[dfmod['evento'].str.contains('aterosclerosis',  case=False), 'evento'] = 'CAUSA_NATURAL'\n",
    "dfmod.loc[dfmod['evento'].str.contains('deficiencia',  case=False), 'evento'] = 'CAUSA_NATURAL'\n",
    "dfmod.loc[dfmod['evento'].str.contains('meningitis',  case=False), 'evento'] = 'CAUSA_NATURAL'\n",
    "dfmod.loc[dfmod['evento'].str.contains('retardo',  case=False), 'evento'] = 'CAUSA_NATURAL'\n",
    "dfmod.loc[dfmod['evento'].str.contains('afecciones',  case=False), 'evento'] = 'CAUSA_NATURAL'\n",
    "dfmod.loc[dfmod['evento'].str.contains('embarazo',  case=False), 'evento'] = 'CAUSA_NATURAL'\n",
    "dfmod.loc[dfmod['evento'].str.contains('complicacion',  case=False), 'evento'] = 'MUERTE_ACCIDENTAL'\n",
    "dfmod.loc[dfmod['evento'].str.contains('sepsis',  case=False), 'evento'] = 'CAUSA_NATURAL'\n",
    "dfmod.loc[dfmod['evento'].str.contains('hiperplasia',  case=False), 'evento'] = 'CAUSA_NATURAL'\n",
    "dfmod.loc[dfmod['evento'].str.contains('septicemia',  case=False), 'evento'] = 'CAUSA_NATURAL'\n",
    "dfmod.loc[dfmod['evento'].str.contains('accident',  case=False), 'evento'] = 'MUERTE_ACCIDENTAL'\n",
    "dfmod.loc[dfmod['evento'].str.contains('ahogamiento',  case=False), 'evento'] = 'MUERTE_ACCIDENTAL'\n",
    "dfmod.loc[dfmod['evento'].str.contains('corriente',  case=False), 'evento'] = 'MUERTE_ACCIDENTAL'\n",
    "dfmod.loc[dfmod['evento'].str.contains('caídas',  case=False), 'evento'] = 'MUERTE_ACCIDENTAL'\n",
    "dfmod.loc[dfmod['evento'].str.contains('fuego',  case=False), 'evento'] = 'MUERTE_ACCIDENTAL'\n",
    "dfmod.loc[dfmod['evento'].str.contains('externa',  case=False), 'evento'] = 'MUERTE_ACCIDENTAL'\n",
    "dfmod.loc[dfmod['evento'].str.contains('suicidio',  case=False), 'evento'] = 'SUICIDIO'\n",
    "dfmod.loc[dfmod['evento'].str.contains('homicidio',  case=False), 'evento'] = 'HOMICIDIO'\n",
    "dfmod.loc[dfmod['evento'].str.contains('determinada',  case=False), 'evento'] = 'INDETERMINADA'\n"
   ]
  },
  {
   "cell_type": "code",
   "execution_count": 148,
   "metadata": {},
   "outputs": [
    {
     "name": "stdout",
     "output_type": "stream",
     "text": [
      "<StringArray>\n",
      "[         'Antioquia',          'Atlántico',             'Bogotá',\n",
      "            'Bolívar',             'Boyacá',             'Caldas',\n",
      "            'Caquetá',              'Cauca',              'Cesar',\n",
      "            'Córdoba',       'Cundinamarca',              'Chocó',\n",
      "              'Huila',         'La Guajira',          'Magdalena',\n",
      "               'Meta',             'Nariño', 'Norte de Santander',\n",
      "            'Quindío',          'Risaralda',          'Santander',\n",
      "              'Sucre',             'Tolima',    'Valle del Cauca',\n",
      "             'Arauca',           'Casanare',           'Putumayo',\n",
      "           'Amazonas',            'Guainía',           'Guaviare',\n",
      "             'Vaupés',            'Vichada']\n",
      "Length: 32, dtype: string\n"
     ]
    }
   ],
   "source": [
    "print(df_main['nombre_depto'].unique())\n",
    "\n",
    "#se dividirá por regiones para el analisis."
   ]
  },
  {
   "cell_type": "code",
   "execution_count": 149,
   "metadata": {},
   "outputs": [],
   "source": [
    "dfmod.loc[dfmod['nombre_depto'].isin(['Atlántico','Bolívar','Cesar','Córdoba','La Guajira','Sucre','Magdalena']), 'region'] = 'Caribe'\n",
    "dfmod.loc[dfmod['nombre_depto'].isin(['Chocó','Valle del Cauca','Cauca','Nariño']), 'region'] = 'Pacífico'\n",
    "dfmod.loc[dfmod['nombre_depto'].isin(['Meta','Vichada','Casanare','Arauca']), 'region'] = 'Orinoquía'\n",
    "dfmod.loc[dfmod['nombre_depto'].isin(['Antioquia','Boyacá','Cundinamarca','Huila','Bogotá','Norte de Santander','Quindío','Risaralda','Santander','Tolima','Caldas']), 'region'] = 'Andina'\n",
    "dfmod.loc[dfmod['nombre_depto'].isin(['Caquetá','Amazonas','Guainía','Guaviare','Putumayo','Vaupés']), 'region'] = 'Amazonía'\n"
   ]
  },
  {
   "cell_type": "code",
   "execution_count": 150,
   "metadata": {},
   "outputs": [
    {
     "name": "stdout",
     "output_type": "stream",
     "text": [
      "['Andina' 'Caribe' 'Amazonía' 'Pacífico' 'Orinoquía']\n"
     ]
    }
   ],
   "source": [
    "print(dfmod['region'].unique())"
   ]
  },
  {
   "cell_type": "code",
   "execution_count": 151,
   "metadata": {},
   "outputs": [],
   "source": [
    "dfmod = dfmod.drop(['nombre_depto'],axis = 1)"
   ]
  },
  {
   "cell_type": "code",
   "execution_count": 152,
   "metadata": {},
   "outputs": [
    {
     "name": "stdout",
     "output_type": "stream",
     "text": [
      "<StringArray>\n",
      "['CAUSA_NATURAL', 'MUERTE_ACCIDENTAL', 'SUICIDIO', 'HOMICIDIO',\n",
      " 'INDETERMINADA']\n",
      "Length: 5, dtype: string\n"
     ]
    }
   ],
   "source": [
    "print(dfmod['evento'].unique())"
   ]
  },
  {
   "cell_type": "code",
   "execution_count": 153,
   "metadata": {},
   "outputs": [
    {
     "data": {
      "text/html": [
       "<div>\n",
       "<style scoped>\n",
       "    .dataframe tbody tr th:only-of-type {\n",
       "        vertical-align: middle;\n",
       "    }\n",
       "\n",
       "    .dataframe tbody tr th {\n",
       "        vertical-align: top;\n",
       "    }\n",
       "\n",
       "    .dataframe thead th {\n",
       "        text-align: right;\n",
       "    }\n",
       "</style>\n",
       "<table border=\"1\" class=\"dataframe\">\n",
       "  <thead>\n",
       "    <tr style=\"text-align: right;\">\n",
       "      <th></th>\n",
       "      <th>evento</th>\n",
       "      <th>edad</th>\n",
       "      <th>sexo_Hombres</th>\n",
       "      <th>sexo_Mujeres</th>\n",
       "      <th>c/10000</th>\n",
       "      <th>region</th>\n",
       "    </tr>\n",
       "  </thead>\n",
       "  <tbody>\n",
       "    <tr>\n",
       "      <th>0</th>\n",
       "      <td>CAUSA_NATURAL</td>\n",
       "      <td>15-44 años</td>\n",
       "      <td>1</td>\n",
       "      <td>0</td>\n",
       "      <td>2.27635</td>\n",
       "      <td>Andina</td>\n",
       "    </tr>\n",
       "    <tr>\n",
       "      <th>1</th>\n",
       "      <td>MUERTE_ACCIDENTAL</td>\n",
       "      <td>15-44 años</td>\n",
       "      <td>1</td>\n",
       "      <td>0</td>\n",
       "      <td>2.27635</td>\n",
       "      <td>Andina</td>\n",
       "    </tr>\n",
       "    <tr>\n",
       "      <th>2</th>\n",
       "      <td>SUICIDIO</td>\n",
       "      <td>15-44 años</td>\n",
       "      <td>1</td>\n",
       "      <td>0</td>\n",
       "      <td>2.27635</td>\n",
       "      <td>Andina</td>\n",
       "    </tr>\n",
       "    <tr>\n",
       "      <th>3</th>\n",
       "      <td>HOMICIDIO</td>\n",
       "      <td>15-44 años</td>\n",
       "      <td>1</td>\n",
       "      <td>0</td>\n",
       "      <td>2.27635</td>\n",
       "      <td>Andina</td>\n",
       "    </tr>\n",
       "    <tr>\n",
       "      <th>4</th>\n",
       "      <td>CAUSA_NATURAL</td>\n",
       "      <td>65+ años</td>\n",
       "      <td>1</td>\n",
       "      <td>0</td>\n",
       "      <td>7.36377</td>\n",
       "      <td>Andina</td>\n",
       "    </tr>\n",
       "  </tbody>\n",
       "</table>\n",
       "</div>"
      ],
      "text/plain": [
       "              evento        edad  sexo_Hombres  sexo_Mujeres  c/10000  region\n",
       "0      CAUSA_NATURAL  15-44 años             1             0  2.27635  Andina\n",
       "1  MUERTE_ACCIDENTAL  15-44 años             1             0  2.27635  Andina\n",
       "2           SUICIDIO  15-44 años             1             0  2.27635  Andina\n",
       "3          HOMICIDIO  15-44 años             1             0  2.27635  Andina\n",
       "4      CAUSA_NATURAL    65+ años             1             0  7.36377  Andina"
      ]
     },
     "execution_count": 153,
     "metadata": {},
     "output_type": "execute_result"
    }
   ],
   "source": [
    "dfmod.head()"
   ]
  },
  {
   "cell_type": "code",
   "execution_count": 154,
   "metadata": {},
   "outputs": [
    {
     "data": {
      "text/plain": [
       "(42254, 10)"
      ]
     },
     "execution_count": 154,
     "metadata": {},
     "output_type": "execute_result"
    }
   ],
   "source": [
    "encoderdepto = ce.OneHotEncoder(cols=\"region\", use_cat_names=True)\n",
    "dfs = encoderdepto.fit_transform(dfmod)\n",
    "dfs.shape"
   ]
  },
  {
   "cell_type": "code",
   "execution_count": 155,
   "metadata": {},
   "outputs": [],
   "source": [
    "encoderedad = ce.OneHotEncoder(cols=\"edad\", use_cat_names=True)"
   ]
  },
  {
   "cell_type": "code",
   "execution_count": 156,
   "metadata": {},
   "outputs": [],
   "source": [
    "dff = encoderedad.fit_transform(dfs)"
   ]
  },
  {
   "cell_type": "code",
   "execution_count": 157,
   "metadata": {},
   "outputs": [
    {
     "data": {
      "text/html": [
       "<div>\n",
       "<style scoped>\n",
       "    .dataframe tbody tr th:only-of-type {\n",
       "        vertical-align: middle;\n",
       "    }\n",
       "\n",
       "    .dataframe tbody tr th {\n",
       "        vertical-align: top;\n",
       "    }\n",
       "\n",
       "    .dataframe thead th {\n",
       "        text-align: right;\n",
       "    }\n",
       "</style>\n",
       "<table border=\"1\" class=\"dataframe\">\n",
       "  <thead>\n",
       "    <tr style=\"text-align: right;\">\n",
       "      <th></th>\n",
       "      <th>evento</th>\n",
       "      <th>edad_15-44 años</th>\n",
       "      <th>edad_65+ años</th>\n",
       "      <th>edad_45-64 años</th>\n",
       "      <th>edad_5-14 años</th>\n",
       "      <th>edad_0-4 años</th>\n",
       "      <th>sexo_Hombres</th>\n",
       "      <th>sexo_Mujeres</th>\n",
       "      <th>c/10000</th>\n",
       "      <th>region_Andina</th>\n",
       "      <th>region_Caribe</th>\n",
       "      <th>region_Amazonía</th>\n",
       "      <th>region_Pacífico</th>\n",
       "      <th>region_Orinoquía</th>\n",
       "    </tr>\n",
       "  </thead>\n",
       "  <tbody>\n",
       "    <tr>\n",
       "      <th>0</th>\n",
       "      <td>CAUSA_NATURAL</td>\n",
       "      <td>1</td>\n",
       "      <td>0</td>\n",
       "      <td>0</td>\n",
       "      <td>0</td>\n",
       "      <td>0</td>\n",
       "      <td>1</td>\n",
       "      <td>0</td>\n",
       "      <td>2.27635</td>\n",
       "      <td>1</td>\n",
       "      <td>0</td>\n",
       "      <td>0</td>\n",
       "      <td>0</td>\n",
       "      <td>0</td>\n",
       "    </tr>\n",
       "    <tr>\n",
       "      <th>1</th>\n",
       "      <td>MUERTE_ACCIDENTAL</td>\n",
       "      <td>1</td>\n",
       "      <td>0</td>\n",
       "      <td>0</td>\n",
       "      <td>0</td>\n",
       "      <td>0</td>\n",
       "      <td>1</td>\n",
       "      <td>0</td>\n",
       "      <td>2.27635</td>\n",
       "      <td>1</td>\n",
       "      <td>0</td>\n",
       "      <td>0</td>\n",
       "      <td>0</td>\n",
       "      <td>0</td>\n",
       "    </tr>\n",
       "    <tr>\n",
       "      <th>2</th>\n",
       "      <td>SUICIDIO</td>\n",
       "      <td>1</td>\n",
       "      <td>0</td>\n",
       "      <td>0</td>\n",
       "      <td>0</td>\n",
       "      <td>0</td>\n",
       "      <td>1</td>\n",
       "      <td>0</td>\n",
       "      <td>2.27635</td>\n",
       "      <td>1</td>\n",
       "      <td>0</td>\n",
       "      <td>0</td>\n",
       "      <td>0</td>\n",
       "      <td>0</td>\n",
       "    </tr>\n",
       "    <tr>\n",
       "      <th>3</th>\n",
       "      <td>HOMICIDIO</td>\n",
       "      <td>1</td>\n",
       "      <td>0</td>\n",
       "      <td>0</td>\n",
       "      <td>0</td>\n",
       "      <td>0</td>\n",
       "      <td>1</td>\n",
       "      <td>0</td>\n",
       "      <td>2.27635</td>\n",
       "      <td>1</td>\n",
       "      <td>0</td>\n",
       "      <td>0</td>\n",
       "      <td>0</td>\n",
       "      <td>0</td>\n",
       "    </tr>\n",
       "    <tr>\n",
       "      <th>4</th>\n",
       "      <td>CAUSA_NATURAL</td>\n",
       "      <td>0</td>\n",
       "      <td>1</td>\n",
       "      <td>0</td>\n",
       "      <td>0</td>\n",
       "      <td>0</td>\n",
       "      <td>1</td>\n",
       "      <td>0</td>\n",
       "      <td>7.36377</td>\n",
       "      <td>1</td>\n",
       "      <td>0</td>\n",
       "      <td>0</td>\n",
       "      <td>0</td>\n",
       "      <td>0</td>\n",
       "    </tr>\n",
       "  </tbody>\n",
       "</table>\n",
       "</div>"
      ],
      "text/plain": [
       "              evento  edad_15-44 años  edad_65+ años  edad_45-64 años  \\\n",
       "0      CAUSA_NATURAL                1              0                0   \n",
       "1  MUERTE_ACCIDENTAL                1              0                0   \n",
       "2           SUICIDIO                1              0                0   \n",
       "3          HOMICIDIO                1              0                0   \n",
       "4      CAUSA_NATURAL                0              1                0   \n",
       "\n",
       "   edad_5-14 años  edad_0-4 años  sexo_Hombres  sexo_Mujeres  c/10000  \\\n",
       "0               0              0             1             0  2.27635   \n",
       "1               0              0             1             0  2.27635   \n",
       "2               0              0             1             0  2.27635   \n",
       "3               0              0             1             0  2.27635   \n",
       "4               0              0             1             0  7.36377   \n",
       "\n",
       "   region_Andina  region_Caribe  region_Amazonía  region_Pacífico  \\\n",
       "0              1              0                0                0   \n",
       "1              1              0                0                0   \n",
       "2              1              0                0                0   \n",
       "3              1              0                0                0   \n",
       "4              1              0                0                0   \n",
       "\n",
       "   region_Orinoquía  \n",
       "0                 0  \n",
       "1                 0  \n",
       "2                 0  \n",
       "3                 0  \n",
       "4                 0  "
      ]
     },
     "execution_count": 157,
     "metadata": {},
     "output_type": "execute_result"
    }
   ],
   "source": [
    "dff.head()"
   ]
  },
  {
   "cell_type": "markdown",
   "metadata": {},
   "source": [
    "# Perfilamiento"
   ]
  },
  {
   "cell_type": "markdown",
   "metadata": {},
   "source": [
    "### sexo"
   ]
  },
  {
   "cell_type": "code",
   "execution_count": 158,
   "metadata": {},
   "outputs": [
    {
     "data": {
      "text/plain": [
       "sexo_Mujeres\n",
       "0    266214.91829\n",
       "1    200786.93796\n",
       "Name: c/10000, dtype: float64"
      ]
     },
     "execution_count": 158,
     "metadata": {},
     "output_type": "execute_result"
    }
   ],
   "source": [
    "dff.groupby(by='sexo_Mujeres')['c/10000'].sum()"
   ]
  },
  {
   "cell_type": "code",
   "execution_count": 159,
   "metadata": {},
   "outputs": [
    {
     "data": {
      "text/plain": [
       "sexo_Hombres\n",
       "0    200786.93796\n",
       "1    266214.91829\n",
       "Name: c/10000, dtype: float64"
      ]
     },
     "execution_count": 159,
     "metadata": {},
     "output_type": "execute_result"
    }
   ],
   "source": [
    "dff.groupby(by='sexo_Hombres')['c/10000'].sum()"
   ]
  },
  {
   "cell_type": "code",
   "execution_count": 160,
   "metadata": {},
   "outputs": [
    {
     "data": {
      "text/plain": [
       "<AxesSubplot:xlabel='sexo_Hombres'>"
      ]
     },
     "execution_count": 160,
     "metadata": {},
     "output_type": "execute_result"
    },
    {
     "data": {
      "image/png": "[encoded data removed]",
      "text/plain": [
       "<Figure size 432x288 with 1 Axes>"
      ]
     },
     "metadata": {
      "needs_background": "light"
     },
     "output_type": "display_data"
    }
   ],
   "source": [
    "sexo_counts = dff.groupby('sexo_Hombres')['c/10000'].count()\n",
    "sexo_counts.plot(kind='bar')"
   ]
  },
  {
   "cell_type": "markdown",
   "metadata": {},
   "source": [
    "### Evento"
   ]
  },
  {
   "cell_type": "code",
   "execution_count": 161,
   "metadata": {},
   "outputs": [
    {
     "data": {
      "text/plain": [
       "evento\n",
       "SUICIDIO               2588.20478\n",
       "HOMICIDIO              7019.13851\n",
       "INDETERMINADA         13774.68185\n",
       "MUERTE_ACCIDENTAL     15535.59928\n",
       "CAUSA_NATURAL        428084.23183\n",
       "Name: c/10000, dtype: float64"
      ]
     },
     "execution_count": 161,
     "metadata": {},
     "output_type": "execute_result"
    }
   ],
   "source": [
    "dff.groupby(by='evento')['c/10000'].sum().sort_values()"
   ]
  },
  {
   "cell_type": "code",
   "execution_count": 162,
   "metadata": {},
   "outputs": [
    {
     "data": {
      "text/plain": [
       "<AxesSubplot:xlabel='evento'>"
      ]
     },
     "execution_count": 162,
     "metadata": {},
     "output_type": "execute_result"
    },
    {
     "data": {
      "image/png": "[encoded data removed]",
      "text/plain": [
       "<Figure size 432x288 with 1 Axes>"
      ]
     },
     "metadata": {
      "needs_background": "light"
     },
     "output_type": "display_data"
    }
   ],
   "source": [
    "evento_counts = dff.groupby('evento')['c/10000'].count()\n",
    "evento_counts.plot(kind='bar')\n",
    "\n",
    "#comparado con la anterior, nos permite categorizar mejor."
   ]
  },
  {
   "cell_type": "markdown",
   "metadata": {},
   "source": [
    "### Region"
   ]
  },
  {
   "cell_type": "code",
   "execution_count": 163,
   "metadata": {},
   "outputs": [
    {
     "data": {
      "text/plain": [
       "region_Andina\n",
       "0    196591.83743\n",
       "1    270410.01882\n",
       "Name: c/10000, dtype: float64"
      ]
     },
     "execution_count": 163,
     "metadata": {},
     "output_type": "execute_result"
    }
   ],
   "source": [
    "dff.groupby(by='region_Andina')['c/10000'].sum().sort_values()"
   ]
  },
  {
   "cell_type": "code",
   "execution_count": 164,
   "metadata": {},
   "outputs": [
    {
     "data": {
      "text/plain": [
       "region_Caribe\n",
       "1     85796.02605\n",
       "0    381205.83020\n",
       "Name: c/10000, dtype: float64"
      ]
     },
     "execution_count": 164,
     "metadata": {},
     "output_type": "execute_result"
    }
   ],
   "source": [
    "dff.groupby(by='region_Caribe')['c/10000'].sum().sort_values()"
   ]
  },
  {
   "cell_type": "code",
   "execution_count": 165,
   "metadata": {},
   "outputs": [
    {
     "data": {
      "text/plain": [
       "region_Amazonía\n",
       "1     16158.61413\n",
       "0    450843.24212\n",
       "Name: c/10000, dtype: float64"
      ]
     },
     "execution_count": 165,
     "metadata": {},
     "output_type": "execute_result"
    }
   ],
   "source": [
    "dff.groupby(by='region_Amazonía')['c/10000'].sum().sort_values()\n"
   ]
  },
  {
   "cell_type": "code",
   "execution_count": 166,
   "metadata": {},
   "outputs": [
    {
     "data": {
      "text/plain": [
       "region_Pacífico\n",
       "1     69654.16341\n",
       "0    397347.69284\n",
       "Name: c/10000, dtype: float64"
      ]
     },
     "execution_count": 166,
     "metadata": {},
     "output_type": "execute_result"
    }
   ],
   "source": [
    "dff.groupby(by='region_Pacífico')['c/10000'].sum().sort_values()\n"
   ]
  },
  {
   "cell_type": "code",
   "execution_count": 167,
   "metadata": {},
   "outputs": [
    {
     "data": {
      "text/plain": [
       "region_Orinoquía\n",
       "1     24983.03384\n",
       "0    442018.82241\n",
       "Name: c/10000, dtype: float64"
      ]
     },
     "execution_count": 167,
     "metadata": {},
     "output_type": "execute_result"
    }
   ],
   "source": [
    "\n",
    "dff.groupby(by='region_Orinoquía')['c/10000'].sum().sort_values()\n"
   ]
  },
  {
   "cell_type": "markdown",
   "metadata": {},
   "source": [
    "### Edad"
   ]
  },
  {
   "cell_type": "code",
   "execution_count": 168,
   "metadata": {},
   "outputs": [
    {
     "data": {
      "text/plain": [
       "edad_0-4 años\n",
       "1     19224.48433\n",
       "0    447777.37192\n",
       "Name: c/10000, dtype: float64"
      ]
     },
     "execution_count": 168,
     "metadata": {},
     "output_type": "execute_result"
    }
   ],
   "source": [
    "dff.groupby(by='edad_0-4 años')['c/10000'].sum().sort_values()"
   ]
  },
  {
   "cell_type": "code",
   "execution_count": 169,
   "metadata": {},
   "outputs": [
    {
     "data": {
      "text/plain": [
       "edad_15-44 años\n",
       "1     14645.35436\n",
       "0    452356.50189\n",
       "Name: c/10000, dtype: float64"
      ]
     },
     "execution_count": 169,
     "metadata": {},
     "output_type": "execute_result"
    }
   ],
   "source": [
    "dff.groupby(by='edad_15-44 años')['c/10000'].sum().sort_values()"
   ]
  },
  {
   "cell_type": "code",
   "execution_count": 170,
   "metadata": {},
   "outputs": [
    {
     "data": {
      "text/plain": [
       "edad_45-64 años\n",
       "1     51536.38301\n",
       "0    415465.47324\n",
       "Name: c/10000, dtype: float64"
      ]
     },
     "execution_count": 170,
     "metadata": {},
     "output_type": "execute_result"
    }
   ],
   "source": [
    "dff.groupby(by='edad_45-64 años')['c/10000'].sum().sort_values()"
   ]
  },
  {
   "cell_type": "code",
   "execution_count": 171,
   "metadata": {},
   "outputs": [
    {
     "data": {
      "text/plain": [
       "edad_65+ años\n",
       "0     88106.64595\n",
       "1    378895.21030\n",
       "Name: c/10000, dtype: float64"
      ]
     },
     "execution_count": 171,
     "metadata": {},
     "output_type": "execute_result"
    }
   ],
   "source": [
    "dff.groupby(by='edad_65+ años')['c/10000'].sum().sort_values()"
   ]
  },
  {
   "cell_type": "markdown",
   "metadata": {},
   "source": [
    "Arreglamos el indice y quitamos codigo_muni"
   ]
  },
  {
   "cell_type": "markdown",
   "metadata": {},
   "source": [
    "Vamos a crear una columna en el dataframe df1 y en el dataframe df_población_datos que nos ayude a hacer la relación que queremos para mapear rangos de edad"
   ]
  },
  {
   "cell_type": "markdown",
   "metadata": {},
   "source": [
    "# Modelo"
   ]
  },
  {
   "cell_type": "code",
   "execution_count": 172,
   "metadata": {},
   "outputs": [],
   "source": [
    "\n",
    "y = dff.evento\n",
    "x = dff.drop(['evento'],axis = 1)\n",
    "\n",
    "x_train, x_test, y_train, y_test = train_test_split(x, y, test_size=0.25, random_state=0)"
   ]
  },
  {
   "cell_type": "code",
   "execution_count": 173,
   "metadata": {},
   "outputs": [],
   "source": [
    "logisticRegr = LogisticRegression()"
   ]
  },
  {
   "cell_type": "code",
   "execution_count": 174,
   "metadata": {},
   "outputs": [
    {
     "data": {
      "text/plain": [
       "LogisticRegression()"
      ]
     },
     "execution_count": 174,
     "metadata": {},
     "output_type": "execute_result"
    }
   ],
   "source": [
    "logisticRegr.fit(x_train, y_train)"
   ]
  },
  {
   "cell_type": "code",
   "execution_count": 175,
   "metadata": {},
   "outputs": [],
   "source": [
    "predictions=logisticRegr.predict(x_test)"
   ]
  },
  {
   "cell_type": "code",
   "execution_count": 176,
   "metadata": {},
   "outputs": [
    {
     "name": "stdout",
     "output_type": "stream",
     "text": [
      "0.84967815221507\n"
     ]
    }
   ],
   "source": [
    "score = logisticRegr.score(x_test, y_test)\n",
    "print(score)"
   ]
  },
  {
   "cell_type": "markdown",
   "metadata": {},
   "source": [
    "## Clustering\n"
   ]
  },
  {
   "cell_type": "markdown",
   "metadata": {},
   "source": [
    "Reescalamos "
   ]
  },
  {
   "cell_type": "code",
   "execution_count": 177,
   "metadata": {},
   "outputs": [
    {
     "data": {
      "text/html": [
       "<div>\n",
       "<style scoped>\n",
       "    .dataframe tbody tr th:only-of-type {\n",
       "        vertical-align: middle;\n",
       "    }\n",
       "\n",
       "    .dataframe tbody tr th {\n",
       "        vertical-align: top;\n",
       "    }\n",
       "\n",
       "    .dataframe thead th {\n",
       "        text-align: right;\n",
       "    }\n",
       "</style>\n",
       "<table border=\"1\" class=\"dataframe\">\n",
       "  <thead>\n",
       "    <tr style=\"text-align: right;\">\n",
       "      <th></th>\n",
       "      <th>evento</th>\n",
       "      <th>edad_15-44 años</th>\n",
       "      <th>edad_65+ años</th>\n",
       "      <th>edad_45-64 años</th>\n",
       "      <th>edad_5-14 años</th>\n",
       "      <th>edad_0-4 años</th>\n",
       "      <th>sexo_Hombres</th>\n",
       "      <th>sexo_Mujeres</th>\n",
       "      <th>c/10000</th>\n",
       "      <th>region_Andina</th>\n",
       "      <th>region_Caribe</th>\n",
       "      <th>region_Amazonía</th>\n",
       "      <th>region_Pacífico</th>\n",
       "      <th>region_Orinoquía</th>\n",
       "    </tr>\n",
       "  </thead>\n",
       "  <tbody>\n",
       "    <tr>\n",
       "      <th>0</th>\n",
       "      <td>CAUSA_NATURAL</td>\n",
       "      <td>1</td>\n",
       "      <td>0</td>\n",
       "      <td>0</td>\n",
       "      <td>0</td>\n",
       "      <td>0</td>\n",
       "      <td>1</td>\n",
       "      <td>0</td>\n",
       "      <td>2.27635</td>\n",
       "      <td>1</td>\n",
       "      <td>0</td>\n",
       "      <td>0</td>\n",
       "      <td>0</td>\n",
       "      <td>0</td>\n",
       "    </tr>\n",
       "    <tr>\n",
       "      <th>1</th>\n",
       "      <td>MUERTE_ACCIDENTAL</td>\n",
       "      <td>1</td>\n",
       "      <td>0</td>\n",
       "      <td>0</td>\n",
       "      <td>0</td>\n",
       "      <td>0</td>\n",
       "      <td>1</td>\n",
       "      <td>0</td>\n",
       "      <td>2.27635</td>\n",
       "      <td>1</td>\n",
       "      <td>0</td>\n",
       "      <td>0</td>\n",
       "      <td>0</td>\n",
       "      <td>0</td>\n",
       "    </tr>\n",
       "    <tr>\n",
       "      <th>2</th>\n",
       "      <td>SUICIDIO</td>\n",
       "      <td>1</td>\n",
       "      <td>0</td>\n",
       "      <td>0</td>\n",
       "      <td>0</td>\n",
       "      <td>0</td>\n",
       "      <td>1</td>\n",
       "      <td>0</td>\n",
       "      <td>2.27635</td>\n",
       "      <td>1</td>\n",
       "      <td>0</td>\n",
       "      <td>0</td>\n",
       "      <td>0</td>\n",
       "      <td>0</td>\n",
       "    </tr>\n",
       "    <tr>\n",
       "      <th>3</th>\n",
       "      <td>HOMICIDIO</td>\n",
       "      <td>1</td>\n",
       "      <td>0</td>\n",
       "      <td>0</td>\n",
       "      <td>0</td>\n",
       "      <td>0</td>\n",
       "      <td>1</td>\n",
       "      <td>0</td>\n",
       "      <td>2.27635</td>\n",
       "      <td>1</td>\n",
       "      <td>0</td>\n",
       "      <td>0</td>\n",
       "      <td>0</td>\n",
       "      <td>0</td>\n",
       "    </tr>\n",
       "    <tr>\n",
       "      <th>4</th>\n",
       "      <td>CAUSA_NATURAL</td>\n",
       "      <td>0</td>\n",
       "      <td>1</td>\n",
       "      <td>0</td>\n",
       "      <td>0</td>\n",
       "      <td>0</td>\n",
       "      <td>1</td>\n",
       "      <td>0</td>\n",
       "      <td>7.36377</td>\n",
       "      <td>1</td>\n",
       "      <td>0</td>\n",
       "      <td>0</td>\n",
       "      <td>0</td>\n",
       "      <td>0</td>\n",
       "    </tr>\n",
       "  </tbody>\n",
       "</table>\n",
       "</div>"
      ],
      "text/plain": [
       "              evento  edad_15-44 años  edad_65+ años  edad_45-64 años  \\\n",
       "0      CAUSA_NATURAL                1              0                0   \n",
       "1  MUERTE_ACCIDENTAL                1              0                0   \n",
       "2           SUICIDIO                1              0                0   \n",
       "3          HOMICIDIO                1              0                0   \n",
       "4      CAUSA_NATURAL                0              1                0   \n",
       "\n",
       "   edad_5-14 años  edad_0-4 años  sexo_Hombres  sexo_Mujeres  c/10000  \\\n",
       "0               0              0             1             0  2.27635   \n",
       "1               0              0             1             0  2.27635   \n",
       "2               0              0             1             0  2.27635   \n",
       "3               0              0             1             0  2.27635   \n",
       "4               0              0             1             0  7.36377   \n",
       "\n",
       "   region_Andina  region_Caribe  region_Amazonía  region_Pacífico  \\\n",
       "0              1              0                0                0   \n",
       "1              1              0                0                0   \n",
       "2              1              0                0                0   \n",
       "3              1              0                0                0   \n",
       "4              1              0                0                0   \n",
       "\n",
       "   region_Orinoquía  \n",
       "0                 0  \n",
       "1                 0  \n",
       "2                 0  \n",
       "3                 0  \n",
       "4                 0  "
      ]
     },
     "execution_count": 177,
     "metadata": {},
     "output_type": "execute_result"
    }
   ],
   "source": [
    "dff.head()"
   ]
  },
  {
   "cell_type": "code",
   "execution_count": 178,
   "metadata": {},
   "outputs": [],
   "source": [
    "encoder = ce.OneHotEncoder(cols=\"evento\", use_cat_names=True)\n",
    "df_final = encoder.fit_transform(dff)\n",
    "\n"
   ]
  },
  {
   "cell_type": "code",
   "execution_count": 179,
   "metadata": {},
   "outputs": [
    {
     "data": {
      "text/html": [
       "<div>\n",
       "<style scoped>\n",
       "    .dataframe tbody tr th:only-of-type {\n",
       "        vertical-align: middle;\n",
       "    }\n",
       "\n",
       "    .dataframe tbody tr th {\n",
       "        vertical-align: top;\n",
       "    }\n",
       "\n",
       "    .dataframe thead th {\n",
       "        text-align: right;\n",
       "    }\n",
       "</style>\n",
       "<table border=\"1\" class=\"dataframe\">\n",
       "  <thead>\n",
       "    <tr style=\"text-align: right;\">\n",
       "      <th></th>\n",
       "      <th>evento_CAUSA_NATURAL</th>\n",
       "      <th>evento_MUERTE_ACCIDENTAL</th>\n",
       "      <th>evento_SUICIDIO</th>\n",
       "      <th>evento_HOMICIDIO</th>\n",
       "      <th>evento_INDETERMINADA</th>\n",
       "      <th>edad_15-44 años</th>\n",
       "      <th>edad_65+ años</th>\n",
       "      <th>edad_45-64 años</th>\n",
       "      <th>edad_5-14 años</th>\n",
       "      <th>edad_0-4 años</th>\n",
       "      <th>sexo_Hombres</th>\n",
       "      <th>sexo_Mujeres</th>\n",
       "      <th>c/10000</th>\n",
       "      <th>region_Andina</th>\n",
       "      <th>region_Caribe</th>\n",
       "      <th>region_Amazonía</th>\n",
       "      <th>region_Pacífico</th>\n",
       "      <th>region_Orinoquía</th>\n",
       "    </tr>\n",
       "  </thead>\n",
       "  <tbody>\n",
       "    <tr>\n",
       "      <th>0</th>\n",
       "      <td>1</td>\n",
       "      <td>0</td>\n",
       "      <td>0</td>\n",
       "      <td>0</td>\n",
       "      <td>0</td>\n",
       "      <td>1</td>\n",
       "      <td>0</td>\n",
       "      <td>0</td>\n",
       "      <td>0</td>\n",
       "      <td>0</td>\n",
       "      <td>1</td>\n",
       "      <td>0</td>\n",
       "      <td>2.27635</td>\n",
       "      <td>1</td>\n",
       "      <td>0</td>\n",
       "      <td>0</td>\n",
       "      <td>0</td>\n",
       "      <td>0</td>\n",
       "    </tr>\n",
       "    <tr>\n",
       "      <th>1</th>\n",
       "      <td>0</td>\n",
       "      <td>1</td>\n",
       "      <td>0</td>\n",
       "      <td>0</td>\n",
       "      <td>0</td>\n",
       "      <td>1</td>\n",
       "      <td>0</td>\n",
       "      <td>0</td>\n",
       "      <td>0</td>\n",
       "      <td>0</td>\n",
       "      <td>1</td>\n",
       "      <td>0</td>\n",
       "      <td>2.27635</td>\n",
       "      <td>1</td>\n",
       "      <td>0</td>\n",
       "      <td>0</td>\n",
       "      <td>0</td>\n",
       "      <td>0</td>\n",
       "    </tr>\n",
       "    <tr>\n",
       "      <th>2</th>\n",
       "      <td>0</td>\n",
       "      <td>0</td>\n",
       "      <td>1</td>\n",
       "      <td>0</td>\n",
       "      <td>0</td>\n",
       "      <td>1</td>\n",
       "      <td>0</td>\n",
       "      <td>0</td>\n",
       "      <td>0</td>\n",
       "      <td>0</td>\n",
       "      <td>1</td>\n",
       "      <td>0</td>\n",
       "      <td>2.27635</td>\n",
       "      <td>1</td>\n",
       "      <td>0</td>\n",
       "      <td>0</td>\n",
       "      <td>0</td>\n",
       "      <td>0</td>\n",
       "    </tr>\n",
       "    <tr>\n",
       "      <th>3</th>\n",
       "      <td>0</td>\n",
       "      <td>0</td>\n",
       "      <td>0</td>\n",
       "      <td>1</td>\n",
       "      <td>0</td>\n",
       "      <td>1</td>\n",
       "      <td>0</td>\n",
       "      <td>0</td>\n",
       "      <td>0</td>\n",
       "      <td>0</td>\n",
       "      <td>1</td>\n",
       "      <td>0</td>\n",
       "      <td>2.27635</td>\n",
       "      <td>1</td>\n",
       "      <td>0</td>\n",
       "      <td>0</td>\n",
       "      <td>0</td>\n",
       "      <td>0</td>\n",
       "    </tr>\n",
       "    <tr>\n",
       "      <th>4</th>\n",
       "      <td>1</td>\n",
       "      <td>0</td>\n",
       "      <td>0</td>\n",
       "      <td>0</td>\n",
       "      <td>0</td>\n",
       "      <td>0</td>\n",
       "      <td>1</td>\n",
       "      <td>0</td>\n",
       "      <td>0</td>\n",
       "      <td>0</td>\n",
       "      <td>1</td>\n",
       "      <td>0</td>\n",
       "      <td>7.36377</td>\n",
       "      <td>1</td>\n",
       "      <td>0</td>\n",
       "      <td>0</td>\n",
       "      <td>0</td>\n",
       "      <td>0</td>\n",
       "    </tr>\n",
       "  </tbody>\n",
       "</table>\n",
       "</div>"
      ],
      "text/plain": [
       "   evento_CAUSA_NATURAL  evento_MUERTE_ACCIDENTAL  evento_SUICIDIO  \\\n",
       "0                     1                         0                0   \n",
       "1                     0                         1                0   \n",
       "2                     0                         0                1   \n",
       "3                     0                         0                0   \n",
       "4                     1                         0                0   \n",
       "\n",
       "   evento_HOMICIDIO  evento_INDETERMINADA  edad_15-44 años  edad_65+ años  \\\n",
       "0                 0                     0                1              0   \n",
       "1                 0                     0                1              0   \n",
       "2                 0                     0                1              0   \n",
       "3                 1                     0                1              0   \n",
       "4                 0                     0                0              1   \n",
       "\n",
       "   edad_45-64 años  edad_5-14 años  edad_0-4 años  sexo_Hombres  sexo_Mujeres  \\\n",
       "0                0               0              0             1             0   \n",
       "1                0               0              0             1             0   \n",
       "2                0               0              0             1             0   \n",
       "3                0               0              0             1             0   \n",
       "4                0               0              0             1             0   \n",
       "\n",
       "   c/10000  region_Andina  region_Caribe  region_Amazonía  region_Pacífico  \\\n",
       "0  2.27635              1              0                0                0   \n",
       "1  2.27635              1              0                0                0   \n",
       "2  2.27635              1              0                0                0   \n",
       "3  2.27635              1              0                0                0   \n",
       "4  7.36377              1              0                0                0   \n",
       "\n",
       "   region_Orinoquía  \n",
       "0                 0  \n",
       "1                 0  \n",
       "2                 0  \n",
       "3                 0  \n",
       "4                 0  "
      ]
     },
     "execution_count": 179,
     "metadata": {},
     "output_type": "execute_result"
    }
   ],
   "source": [
    "df_final.head()"
   ]
  },
  {
   "cell_type": "code",
   "execution_count": 180,
   "metadata": {},
   "outputs": [
    {
     "data": {
      "text/html": [
       "<div>\n",
       "<style scoped>\n",
       "    .dataframe tbody tr th:only-of-type {\n",
       "        vertical-align: middle;\n",
       "    }\n",
       "\n",
       "    .dataframe tbody tr th {\n",
       "        vertical-align: top;\n",
       "    }\n",
       "\n",
       "    .dataframe thead th {\n",
       "        text-align: right;\n",
       "    }\n",
       "</style>\n",
       "<table border=\"1\" class=\"dataframe\">\n",
       "  <thead>\n",
       "    <tr style=\"text-align: right;\">\n",
       "      <th></th>\n",
       "      <th>evento_CAUSA_NATURAL</th>\n",
       "      <th>evento_MUERTE_ACCIDENTAL</th>\n",
       "      <th>evento_SUICIDIO</th>\n",
       "      <th>evento_HOMICIDIO</th>\n",
       "      <th>evento_INDETERMINADA</th>\n",
       "      <th>edad_15-44 años</th>\n",
       "      <th>edad_65+ años</th>\n",
       "      <th>edad_45-64 años</th>\n",
       "      <th>edad_5-14 años</th>\n",
       "      <th>edad_0-4 años</th>\n",
       "      <th>sexo_Hombres</th>\n",
       "      <th>sexo_Mujeres</th>\n",
       "      <th>c/10000</th>\n",
       "      <th>region_Andina</th>\n",
       "      <th>region_Caribe</th>\n",
       "      <th>region_Amazonía</th>\n",
       "      <th>region_Pacífico</th>\n",
       "      <th>region_Orinoquía</th>\n",
       "    </tr>\n",
       "  </thead>\n",
       "  <tbody>\n",
       "    <tr>\n",
       "      <th>count</th>\n",
       "      <td>42254.000000</td>\n",
       "      <td>42254.000000</td>\n",
       "      <td>42254.000000</td>\n",
       "      <td>42254.000000</td>\n",
       "      <td>42254.000000</td>\n",
       "      <td>42254.000000</td>\n",
       "      <td>42254.000000</td>\n",
       "      <td>42254.000000</td>\n",
       "      <td>42254.000000</td>\n",
       "      <td>42254.000000</td>\n",
       "      <td>42254.000000</td>\n",
       "      <td>42254.000000</td>\n",
       "      <td>42254.000000</td>\n",
       "      <td>42254.000000</td>\n",
       "      <td>42254.000000</td>\n",
       "      <td>42254.000000</td>\n",
       "      <td>42254.000000</td>\n",
       "      <td>42254.000000</td>\n",
       "    </tr>\n",
       "    <tr>\n",
       "      <th>mean</th>\n",
       "      <td>0.848440</td>\n",
       "      <td>0.071094</td>\n",
       "      <td>0.016093</td>\n",
       "      <td>0.027713</td>\n",
       "      <td>0.036659</td>\n",
       "      <td>0.159038</td>\n",
       "      <td>0.509964</td>\n",
       "      <td>0.253727</td>\n",
       "      <td>0.019430</td>\n",
       "      <td>0.057841</td>\n",
       "      <td>0.556089</td>\n",
       "      <td>0.443911</td>\n",
       "      <td>0.029275</td>\n",
       "      <td>0.516945</td>\n",
       "      <td>0.231623</td>\n",
       "      <td>0.030246</td>\n",
       "      <td>0.173948</td>\n",
       "      <td>0.047238</td>\n",
       "    </tr>\n",
       "    <tr>\n",
       "      <th>std</th>\n",
       "      <td>0.358598</td>\n",
       "      <td>0.256985</td>\n",
       "      <td>0.125835</td>\n",
       "      <td>0.164152</td>\n",
       "      <td>0.187926</td>\n",
       "      <td>0.365716</td>\n",
       "      <td>0.499907</td>\n",
       "      <td>0.435149</td>\n",
       "      <td>0.138033</td>\n",
       "      <td>0.233445</td>\n",
       "      <td>0.496850</td>\n",
       "      <td>0.496850</td>\n",
       "      <td>0.042953</td>\n",
       "      <td>0.499719</td>\n",
       "      <td>0.421874</td>\n",
       "      <td>0.171265</td>\n",
       "      <td>0.379069</td>\n",
       "      <td>0.212150</td>\n",
       "    </tr>\n",
       "    <tr>\n",
       "      <th>min</th>\n",
       "      <td>0.000000</td>\n",
       "      <td>0.000000</td>\n",
       "      <td>0.000000</td>\n",
       "      <td>0.000000</td>\n",
       "      <td>0.000000</td>\n",
       "      <td>0.000000</td>\n",
       "      <td>0.000000</td>\n",
       "      <td>0.000000</td>\n",
       "      <td>0.000000</td>\n",
       "      <td>0.000000</td>\n",
       "      <td>0.000000</td>\n",
       "      <td>0.000000</td>\n",
       "      <td>0.000000</td>\n",
       "      <td>0.000000</td>\n",
       "      <td>0.000000</td>\n",
       "      <td>0.000000</td>\n",
       "      <td>0.000000</td>\n",
       "      <td>0.000000</td>\n",
       "    </tr>\n",
       "    <tr>\n",
       "      <th>25%</th>\n",
       "      <td>1.000000</td>\n",
       "      <td>0.000000</td>\n",
       "      <td>0.000000</td>\n",
       "      <td>0.000000</td>\n",
       "      <td>0.000000</td>\n",
       "      <td>0.000000</td>\n",
       "      <td>0.000000</td>\n",
       "      <td>0.000000</td>\n",
       "      <td>0.000000</td>\n",
       "      <td>0.000000</td>\n",
       "      <td>0.000000</td>\n",
       "      <td>0.000000</td>\n",
       "      <td>0.004685</td>\n",
       "      <td>0.000000</td>\n",
       "      <td>0.000000</td>\n",
       "      <td>0.000000</td>\n",
       "      <td>0.000000</td>\n",
       "      <td>0.000000</td>\n",
       "    </tr>\n",
       "    <tr>\n",
       "      <th>50%</th>\n",
       "      <td>1.000000</td>\n",
       "      <td>0.000000</td>\n",
       "      <td>0.000000</td>\n",
       "      <td>0.000000</td>\n",
       "      <td>0.000000</td>\n",
       "      <td>0.000000</td>\n",
       "      <td>1.000000</td>\n",
       "      <td>0.000000</td>\n",
       "      <td>0.000000</td>\n",
       "      <td>0.000000</td>\n",
       "      <td>1.000000</td>\n",
       "      <td>0.000000</td>\n",
       "      <td>0.014676</td>\n",
       "      <td>1.000000</td>\n",
       "      <td>0.000000</td>\n",
       "      <td>0.000000</td>\n",
       "      <td>0.000000</td>\n",
       "      <td>0.000000</td>\n",
       "    </tr>\n",
       "    <tr>\n",
       "      <th>75%</th>\n",
       "      <td>1.000000</td>\n",
       "      <td>0.000000</td>\n",
       "      <td>0.000000</td>\n",
       "      <td>0.000000</td>\n",
       "      <td>0.000000</td>\n",
       "      <td>0.000000</td>\n",
       "      <td>1.000000</td>\n",
       "      <td>1.000000</td>\n",
       "      <td>0.000000</td>\n",
       "      <td>0.000000</td>\n",
       "      <td>1.000000</td>\n",
       "      <td>1.000000</td>\n",
       "      <td>0.035462</td>\n",
       "      <td>1.000000</td>\n",
       "      <td>0.000000</td>\n",
       "      <td>0.000000</td>\n",
       "      <td>0.000000</td>\n",
       "      <td>0.000000</td>\n",
       "    </tr>\n",
       "    <tr>\n",
       "      <th>max</th>\n",
       "      <td>1.000000</td>\n",
       "      <td>1.000000</td>\n",
       "      <td>1.000000</td>\n",
       "      <td>1.000000</td>\n",
       "      <td>1.000000</td>\n",
       "      <td>1.000000</td>\n",
       "      <td>1.000000</td>\n",
       "      <td>1.000000</td>\n",
       "      <td>1.000000</td>\n",
       "      <td>1.000000</td>\n",
       "      <td>1.000000</td>\n",
       "      <td>1.000000</td>\n",
       "      <td>1.000000</td>\n",
       "      <td>1.000000</td>\n",
       "      <td>1.000000</td>\n",
       "      <td>1.000000</td>\n",
       "      <td>1.000000</td>\n",
       "      <td>1.000000</td>\n",
       "    </tr>\n",
       "  </tbody>\n",
       "</table>\n",
       "</div>"
      ],
      "text/plain": [
       "       evento_CAUSA_NATURAL  evento_MUERTE_ACCIDENTAL  evento_SUICIDIO  \\\n",
       "count          42254.000000              42254.000000     42254.000000   \n",
       "mean               0.848440                  0.071094         0.016093   \n",
       "std                0.358598                  0.256985         0.125835   \n",
       "min                0.000000                  0.000000         0.000000   \n",
       "25%                1.000000                  0.000000         0.000000   \n",
       "50%                1.000000                  0.000000         0.000000   \n",
       "75%                1.000000                  0.000000         0.000000   \n",
       "max                1.000000                  1.000000         1.000000   \n",
       "\n",
       "       evento_HOMICIDIO  evento_INDETERMINADA  edad_15-44 años  edad_65+ años  \\\n",
       "count      42254.000000          42254.000000     42254.000000   42254.000000   \n",
       "mean           0.027713              0.036659         0.159038       0.509964   \n",
       "std            0.164152              0.187926         0.365716       0.499907   \n",
       "min            0.000000              0.000000         0.000000       0.000000   \n",
       "25%            0.000000              0.000000         0.000000       0.000000   \n",
       "50%            0.000000              0.000000         0.000000       1.000000   \n",
       "75%            0.000000              0.000000         0.000000       1.000000   \n",
       "max            1.000000              1.000000         1.000000       1.000000   \n",
       "\n",
       "       edad_45-64 años  edad_5-14 años  edad_0-4 años  sexo_Hombres  \\\n",
       "count     42254.000000    42254.000000   42254.000000  42254.000000   \n",
       "mean          0.253727        0.019430       0.057841      0.556089   \n",
       "std           0.435149        0.138033       0.233445      0.496850   \n",
       "min           0.000000        0.000000       0.000000      0.000000   \n",
       "25%           0.000000        0.000000       0.000000      0.000000   \n",
       "50%           0.000000        0.000000       0.000000      1.000000   \n",
       "75%           1.000000        0.000000       0.000000      1.000000   \n",
       "max           1.000000        1.000000       1.000000      1.000000   \n",
       "\n",
       "       sexo_Mujeres       c/10000  region_Andina  region_Caribe  \\\n",
       "count  42254.000000  42254.000000   42254.000000   42254.000000   \n",
       "mean       0.443911      0.029275       0.516945       0.231623   \n",
       "std        0.496850      0.042953       0.499719       0.421874   \n",
       "min        0.000000      0.000000       0.000000       0.000000   \n",
       "25%        0.000000      0.004685       0.000000       0.000000   \n",
       "50%        0.000000      0.014676       1.000000       0.000000   \n",
       "75%        1.000000      0.035462       1.000000       0.000000   \n",
       "max        1.000000      1.000000       1.000000       1.000000   \n",
       "\n",
       "       region_Amazonía  region_Pacífico  region_Orinoquía  \n",
       "count     42254.000000     42254.000000      42254.000000  \n",
       "mean          0.030246         0.173948          0.047238  \n",
       "std           0.171265         0.379069          0.212150  \n",
       "min           0.000000         0.000000          0.000000  \n",
       "25%           0.000000         0.000000          0.000000  \n",
       "50%           0.000000         0.000000          0.000000  \n",
       "75%           0.000000         0.000000          0.000000  \n",
       "max           1.000000         1.000000          1.000000  "
      ]
     },
     "execution_count": 180,
     "metadata": {},
     "output_type": "execute_result"
    }
   ],
   "source": [
    "trans = MinMaxScaler()\n",
    "trans.fit(df_final)\n",
    "\n",
    "df_finalt = pd.DataFrame(trans.transform(df_final), columns = df_final.columns)\n",
    "df_finalt.describe()"
   ]
  },
  {
   "cell_type": "code",
   "execution_count": 188,
   "metadata": {},
   "outputs": [],
   "source": [
    "#Creamos una función basada en el concepto de silueta\n",
    "def plot_silhouette(data, \n",
    "                    labels,\n",
    "                   ylabel = 'Clústeres',\n",
    "                   xlabel = \"Silhouette coefficient\",\n",
    "                   title = 'Silhouette Plot'):\n",
    "    '''\n",
    "    Graficar la silueta de los clusters\n",
    "    \n",
    "    Parametros\n",
    "    ----------\n",
    "    data : np.array\n",
    "        El arreglo con los datos\n",
    "    labels : np.array\n",
    "        El arreglo con las etiquetas correspondientes\n",
    "    ylabel  string\n",
    "        La etiqueta del eje y\n",
    "    xlabel : string\n",
    "        La etiqueta del eje x\n",
    "    title : string\n",
    "        El titulo de la gráfica        \n",
    "    '''\n",
    "    cluster_labels = np.unique(labels)\n",
    "    n_clusters = cluster_labels.shape[0]\n",
    "    silhouette_vals = silhouette_samples(data,\n",
    "                                        labels,\n",
    "                                        metric='euclidean')\n",
    "    y_ax_lower, y_ax_upper = 0, 0\n",
    "    yticks = []\n",
    "    for i, c in enumerate(cluster_labels):\n",
    "        c_silhouette_vals = silhouette_vals[labels == c]\n",
    "        c_silhouette_vals.sort()\n",
    "        y_ax_upper += len(c_silhouette_vals)\n",
    "        color = cm.jet(float(i) / n_clusters)\n",
    "        plt.barh(range(y_ax_lower, y_ax_upper),\n",
    "                        c_silhouette_vals,\n",
    "                        height=1.0,\n",
    "                        edgecolor='none',\n",
    "                        color=color)\n",
    "        yticks.append((y_ax_lower + y_ax_upper) / 2.)\n",
    "        y_ax_lower += len(c_silhouette_vals)\n",
    "    silhouette_avg = np.mean(silhouette_vals)\n",
    "    plt.axvline(silhouette_avg,\n",
    "                color=\"red\",\n",
    "                linestyle=\"--\")\n",
    "    plt.yticks(yticks, cluster_labels+1)\n",
    "    plt.ylabel(ylabel)\n",
    "    plt.xlabel(xlabel)\n",
    "    plt.title(title)\n",
    "    plt.show()"
   ]
  },
  {
   "cell_type": "code",
   "execution_count": 192,
   "metadata": {},
   "outputs": [
    {
     "data": {
      "image/png": "[encoded data removed]",
      "text/plain": [
       "<Figure size 432x288 with 1 Axes>"
      ]
     },
     "metadata": {
      "needs_background": "light"
     },
     "output_type": "display_data"
    }
   ],
   "source": [
    "# Esta función puede tardar varios minutos\n",
    "n_clusters = 2\n",
    "km = KMeans(n_clusters=n_clusters, random_state=1)\n",
    "km.fit(df_finalt)\n",
    "plot_silhouette(data = df_finalt, \n",
    "                labels = km.labels_, \n",
    "                ylabel = f'Clustering with {n_clusters} clusters')"
   ]
  },
  {
   "cell_type": "code",
   "execution_count": 194,
   "metadata": {},
   "outputs": [
    {
     "data": {
      "image/png": "[encoded data removed]",
      "text/plain": [
       "<Figure size 432x288 with 1 Axes>"
      ]
     },
     "metadata": {},
     "output_type": "display_data"
    }
   ],
   "source": [
    "# Esta función puede tardar varios minutos\n",
    "n_clusters = 3\n",
    "km = KMeans(n_clusters=n_clusters, random_state=1)\n",
    "km.fit(df_finalt)\n",
    "plot_silhouette(data = df_finalt, \n",
    "                labels = km.labels_, \n",
    "                ylabel = f'Clustering with {n_clusters} clusters')"
   ]
  },
  {
   "cell_type": "markdown",
   "metadata": {},
   "source": [
    "Dado que este ya da negativos, se consideran 2 clusters como la mejor."
   ]
  },
  {
   "cell_type": "code",
   "execution_count": 196,
   "metadata": {},
   "outputs": [
    {
     "data": {
      "text/plain": [
       "KMeans(n_clusters=2, random_state=161)"
      ]
     },
     "execution_count": 196,
     "metadata": {},
     "output_type": "execute_result"
    }
   ],
   "source": [
    "n_clusters = 2\n",
    "km = KMeans(n_clusters=n_clusters, random_state=seed)\n",
    "km.fit(df_finalt)"
   ]
  },
  {
   "cell_type": "code",
   "execution_count": 197,
   "metadata": {},
   "outputs": [
    {
     "data": {
      "text/html": [
       "<div>\n",
       "<style scoped>\n",
       "    .dataframe tbody tr th:only-of-type {\n",
       "        vertical-align: middle;\n",
       "    }\n",
       "\n",
       "    .dataframe tbody tr th {\n",
       "        vertical-align: top;\n",
       "    }\n",
       "\n",
       "    .dataframe thead th {\n",
       "        text-align: right;\n",
       "    }\n",
       "</style>\n",
       "<table border=\"1\" class=\"dataframe\">\n",
       "  <thead>\n",
       "    <tr style=\"text-align: right;\">\n",
       "      <th></th>\n",
       "      <th>evento_CAUSA_NATURAL</th>\n",
       "      <th>evento_MUERTE_ACCIDENTAL</th>\n",
       "      <th>evento_SUICIDIO</th>\n",
       "      <th>evento_HOMICIDIO</th>\n",
       "      <th>evento_INDETERMINADA</th>\n",
       "      <th>edad_15-44 años</th>\n",
       "      <th>edad_65+ años</th>\n",
       "      <th>edad_45-64 años</th>\n",
       "      <th>edad_5-14 años</th>\n",
       "      <th>edad_0-4 años</th>\n",
       "      <th>sexo_Hombres</th>\n",
       "      <th>sexo_Mujeres</th>\n",
       "      <th>c/10000</th>\n",
       "      <th>region_Andina</th>\n",
       "      <th>region_Caribe</th>\n",
       "      <th>region_Amazonía</th>\n",
       "      <th>region_Pacífico</th>\n",
       "      <th>region_Orinoquía</th>\n",
       "    </tr>\n",
       "  </thead>\n",
       "  <tbody>\n",
       "    <tr>\n",
       "      <th>0</th>\n",
       "      <td>0.804826</td>\n",
       "      <td>0.092395</td>\n",
       "      <td>0.022556</td>\n",
       "      <td>0.040090</td>\n",
       "      <td>0.040133</td>\n",
       "      <td>0.171681</td>\n",
       "      <td>0.489382</td>\n",
       "      <td>0.259437</td>\n",
       "      <td>0.02030</td>\n",
       "      <td>0.059199</td>\n",
       "      <td>1.000000e+00</td>\n",
       "      <td>3.774758e-15</td>\n",
       "      <td>0.030011</td>\n",
       "      <td>0.517513</td>\n",
       "      <td>0.229902</td>\n",
       "      <td>0.031281</td>\n",
       "      <td>0.173086</td>\n",
       "      <td>0.048219</td>\n",
       "    </tr>\n",
       "    <tr>\n",
       "      <th>1</th>\n",
       "      <td>0.903076</td>\n",
       "      <td>0.044410</td>\n",
       "      <td>0.007997</td>\n",
       "      <td>0.012209</td>\n",
       "      <td>0.032308</td>\n",
       "      <td>0.143200</td>\n",
       "      <td>0.535747</td>\n",
       "      <td>0.246575</td>\n",
       "      <td>0.01834</td>\n",
       "      <td>0.056139</td>\n",
       "      <td>-3.663736e-15</td>\n",
       "      <td>1.000000e+00</td>\n",
       "      <td>0.028354</td>\n",
       "      <td>0.516234</td>\n",
       "      <td>0.233779</td>\n",
       "      <td>0.028949</td>\n",
       "      <td>0.175028</td>\n",
       "      <td>0.046009</td>\n",
       "    </tr>\n",
       "  </tbody>\n",
       "</table>\n",
       "</div>"
      ],
      "text/plain": [
       "   evento_CAUSA_NATURAL  evento_MUERTE_ACCIDENTAL  evento_SUICIDIO  \\\n",
       "0              0.804826                  0.092395         0.022556   \n",
       "1              0.903076                  0.044410         0.007997   \n",
       "\n",
       "   evento_HOMICIDIO  evento_INDETERMINADA  edad_15-44 años  edad_65+ años  \\\n",
       "0          0.040090              0.040133         0.171681       0.489382   \n",
       "1          0.012209              0.032308         0.143200       0.535747   \n",
       "\n",
       "   edad_45-64 años  edad_5-14 años  edad_0-4 años  sexo_Hombres  sexo_Mujeres  \\\n",
       "0         0.259437         0.02030       0.059199  1.000000e+00  3.774758e-15   \n",
       "1         0.246575         0.01834       0.056139 -3.663736e-15  1.000000e+00   \n",
       "\n",
       "    c/10000  region_Andina  region_Caribe  region_Amazonía  region_Pacífico  \\\n",
       "0  0.030011       0.517513       0.229902         0.031281         0.173086   \n",
       "1  0.028354       0.516234       0.233779         0.028949         0.175028   \n",
       "\n",
       "   region_Orinoquía  \n",
       "0          0.048219  \n",
       "1          0.046009  "
      ]
     },
     "execution_count": 197,
     "metadata": {},
     "output_type": "execute_result"
    }
   ],
   "source": [
    "df_pro3 = pd.DataFrame(km.cluster_centers_, columns = df_finalt.columns)\n",
    "df_pro3"
   ]
  },
  {
   "cell_type": "code",
   "execution_count": 199,
   "metadata": {},
   "outputs": [
    {
     "data": {
      "text/html": [
       "<div>\n",
       "<style scoped>\n",
       "    .dataframe tbody tr th:only-of-type {\n",
       "        vertical-align: middle;\n",
       "    }\n",
       "\n",
       "    .dataframe tbody tr th {\n",
       "        vertical-align: top;\n",
       "    }\n",
       "\n",
       "    .dataframe thead th {\n",
       "        text-align: right;\n",
       "    }\n",
       "</style>\n",
       "<table border=\"1\" class=\"dataframe\">\n",
       "  <thead>\n",
       "    <tr style=\"text-align: right;\">\n",
       "      <th></th>\n",
       "      <th>1</th>\n",
       "      <th>2</th>\n",
       "      <th>column</th>\n",
       "    </tr>\n",
       "  </thead>\n",
       "  <tbody>\n",
       "    <tr>\n",
       "      <th>0</th>\n",
       "      <td>8.048261e-01</td>\n",
       "      <td>9.030762e-01</td>\n",
       "      <td>evento_CAUSA_NATURAL</td>\n",
       "    </tr>\n",
       "    <tr>\n",
       "      <th>1</th>\n",
       "      <td>9.239477e-02</td>\n",
       "      <td>4.441009e-02</td>\n",
       "      <td>evento_MUERTE_ACCIDENTAL</td>\n",
       "    </tr>\n",
       "    <tr>\n",
       "      <th>2</th>\n",
       "      <td>2.255607e-02</td>\n",
       "      <td>7.997014e-03</td>\n",
       "      <td>evento_SUICIDIO</td>\n",
       "    </tr>\n",
       "    <tr>\n",
       "      <th>3</th>\n",
       "      <td>4.009022e-02</td>\n",
       "      <td>1.220878e-02</td>\n",
       "      <td>evento_HOMICIDIO</td>\n",
       "    </tr>\n",
       "    <tr>\n",
       "      <th>4</th>\n",
       "      <td>4.013278e-02</td>\n",
       "      <td>3.230794e-02</td>\n",
       "      <td>evento_INDETERMINADA</td>\n",
       "    </tr>\n",
       "    <tr>\n",
       "      <th>5</th>\n",
       "      <td>1.716815e-01</td>\n",
       "      <td>1.431999e-01</td>\n",
       "      <td>edad_15-44 años</td>\n",
       "    </tr>\n",
       "    <tr>\n",
       "      <th>6</th>\n",
       "      <td>4.893816e-01</td>\n",
       "      <td>5.357467e-01</td>\n",
       "      <td>edad_65+ años</td>\n",
       "    </tr>\n",
       "    <tr>\n",
       "      <th>7</th>\n",
       "      <td>2.594374e-01</td>\n",
       "      <td>2.465746e-01</td>\n",
       "      <td>edad_45-64 años</td>\n",
       "    </tr>\n",
       "    <tr>\n",
       "      <th>8</th>\n",
       "      <td>2.030046e-02</td>\n",
       "      <td>1.833982e-02</td>\n",
       "      <td>edad_5-14 años</td>\n",
       "    </tr>\n",
       "    <tr>\n",
       "      <th>9</th>\n",
       "      <td>5.919905e-02</td>\n",
       "      <td>5.613904e-02</td>\n",
       "      <td>edad_0-4 años</td>\n",
       "    </tr>\n",
       "    <tr>\n",
       "      <th>10</th>\n",
       "      <td>1.000000e+00</td>\n",
       "      <td>-3.663736e-15</td>\n",
       "      <td>sexo_Hombres</td>\n",
       "    </tr>\n",
       "    <tr>\n",
       "      <th>11</th>\n",
       "      <td>3.774758e-15</td>\n",
       "      <td>1.000000e+00</td>\n",
       "      <td>sexo_Mujeres</td>\n",
       "    </tr>\n",
       "    <tr>\n",
       "      <th>12</th>\n",
       "      <td>3.001060e-02</td>\n",
       "      <td>2.835406e-02</td>\n",
       "      <td>c/10000</td>\n",
       "    </tr>\n",
       "    <tr>\n",
       "      <th>13</th>\n",
       "      <td>5.175129e-01</td>\n",
       "      <td>5.162339e-01</td>\n",
       "      <td>region_Andina</td>\n",
       "    </tr>\n",
       "    <tr>\n",
       "      <th>14</th>\n",
       "      <td>2.299017e-01</td>\n",
       "      <td>2.337794e-01</td>\n",
       "      <td>region_Caribe</td>\n",
       "    </tr>\n",
       "    <tr>\n",
       "      <th>15</th>\n",
       "      <td>3.128059e-02</td>\n",
       "      <td>2.894919e-02</td>\n",
       "      <td>region_Amazonía</td>\n",
       "    </tr>\n",
       "    <tr>\n",
       "      <th>16</th>\n",
       "      <td>1.730859e-01</td>\n",
       "      <td>1.750280e-01</td>\n",
       "      <td>region_Pacífico</td>\n",
       "    </tr>\n",
       "    <tr>\n",
       "      <th>17</th>\n",
       "      <td>4.821892e-02</td>\n",
       "      <td>4.600949e-02</td>\n",
       "      <td>region_Orinoquía</td>\n",
       "    </tr>\n",
       "  </tbody>\n",
       "</table>\n",
       "</div>"
      ],
      "text/plain": [
       "               1             2                    column\n",
       "0   8.048261e-01  9.030762e-01      evento_CAUSA_NATURAL\n",
       "1   9.239477e-02  4.441009e-02  evento_MUERTE_ACCIDENTAL\n",
       "2   2.255607e-02  7.997014e-03           evento_SUICIDIO\n",
       "3   4.009022e-02  1.220878e-02          evento_HOMICIDIO\n",
       "4   4.013278e-02  3.230794e-02      evento_INDETERMINADA\n",
       "5   1.716815e-01  1.431999e-01           edad_15-44 años\n",
       "6   4.893816e-01  5.357467e-01             edad_65+ años\n",
       "7   2.594374e-01  2.465746e-01           edad_45-64 años\n",
       "8   2.030046e-02  1.833982e-02            edad_5-14 años\n",
       "9   5.919905e-02  5.613904e-02             edad_0-4 años\n",
       "10  1.000000e+00 -3.663736e-15              sexo_Hombres\n",
       "11  3.774758e-15  1.000000e+00              sexo_Mujeres\n",
       "12  3.001060e-02  2.835406e-02                   c/10000\n",
       "13  5.175129e-01  5.162339e-01             region_Andina\n",
       "14  2.299017e-01  2.337794e-01             region_Caribe\n",
       "15  3.128059e-02  2.894919e-02           region_Amazonía\n",
       "16  1.730859e-01  1.750280e-01           region_Pacífico\n",
       "17  4.821892e-02  4.600949e-02          region_Orinoquía"
      ]
     },
     "execution_count": 199,
     "metadata": {},
     "output_type": "execute_result"
    }
   ],
   "source": [
    "df_pro3_t = pd.DataFrame(np.transpose(km.cluster_centers_), columns = range(1, n_clusters +1))\n",
    "df_pro3_t['column'] = df_finalt.columns\n",
    "df_pro3_t"
   ]
  },
  {
   "cell_type": "code",
   "execution_count": 200,
   "metadata": {},
   "outputs": [
    {
     "data": {
      "text/plain": [
       "<AxesSubplot:xlabel='value', ylabel='column'>"
      ]
     },
     "execution_count": 200,
     "metadata": {},
     "output_type": "execute_result"
    },
    {
     "data": {
      "image/png": "[encoded data removed]",
      "text/plain": [
       "<Figure size 576x576 with 1 Axes>"
      ]
     },
     "metadata": {},
     "output_type": "display_data"
    }
   ],
   "source": [
    "resp = []\n",
    "for i in range(1, n_clusters +1):\n",
    "    df1 = df_pro3_t[['column',i]].rename(columns = {i:'value'})\n",
    "    df1['cluster'] = i\n",
    "    resp.append(df1)\n",
    "\n",
    "df_plot = pd.concat(resp, ignore_index = True)\n",
    "\n",
    "\n",
    "fig = plt.figure(figsize=(8,8))\n",
    "sns.barplot(data = df_plot, y = 'column', x = 'value', hue = 'cluster', orient = 'h')"
   ]
  }
 ],
 "metadata": {
  "interpreter": {
   "hash": "b3ba2566441a7c06988d0923437866b63cedc61552a5af99d1f4fb67d367b25f"
  },
  "kernelspec": {
   "display_name": "Python 3 (ipykernel)",
   "language": "python",
   "name": "python3"
  },
  "language_info": {
   "codemirror_mode": {
    "name": "ipython",
    "version": 3
   },
   "file_extension": ".py",
   "mimetype": "text/x-python",
   "name": "python",
   "nbconvert_exporter": "python",
   "pygments_lexer": "ipython3",
   "version": "3.8.8"
  },
  "toc": {
   "base_numbering": 1,
   "nav_menu": {},
   "number_sections": true,
   "sideBar": true,
   "skip_h1_title": false,
   "title_cell": "Table of Contents",
   "title_sidebar": "Contents",
   "toc_cell": false,
   "toc_position": {
    "height": "calc(100% - 180px)",
    "left": "10px",
    "top": "150px",
    "width": "187px"
   },
   "toc_section_display": true,
   "toc_window_display": true
  }
 },
 "nbformat": 4,
 "nbformat_minor": 2
}
