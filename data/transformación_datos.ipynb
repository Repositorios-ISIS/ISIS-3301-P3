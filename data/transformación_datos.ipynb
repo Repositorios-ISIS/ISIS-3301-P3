{
 "cells": [
  {
   "cell_type": "markdown",
   "id": "a30573c2",
   "metadata": {},
   "source": [
    "# Librerias"
   ]
  },
  {
   "cell_type": "code",
   "execution_count": 1,
   "id": "4321e012",
   "metadata": {},
   "outputs": [],
   "source": [
    "#Librerias para trabajar los datos\n",
    "import pandas as pd\n",
    "import numpy as np\n",
    "\n",
    "\n",
    "#Librerias para visualizar los datos\n",
    "import matplotlib.pyplot as plt\n",
    "import seaborn as sns"
   ]
  },
  {
   "cell_type": "markdown",
   "id": "4a5a4930",
   "metadata": {},
   "source": [
    "# Carga de Datos"
   ]
  },
  {
   "cell_type": "code",
   "execution_count": 2,
   "id": "4d9f19e1",
   "metadata": {},
   "outputs": [
    {
     "data": {
      "text/html": [
       "<div>\n",
       "<style scoped>\n",
       "    .dataframe tbody tr th:only-of-type {\n",
       "        vertical-align: middle;\n",
       "    }\n",
       "\n",
       "    .dataframe tbody tr th {\n",
       "        vertical-align: top;\n",
       "    }\n",
       "\n",
       "    .dataframe thead th {\n",
       "        text-align: right;\n",
       "    }\n",
       "</style>\n",
       "<table border=\"1\" class=\"dataframe\">\n",
       "  <thead>\n",
       "    <tr style=\"text-align: right;\">\n",
       "      <th></th>\n",
       "      <th>anio</th>\n",
       "      <th>codigo_depto</th>\n",
       "      <th>nombre_depto</th>\n",
       "      <th>nombre_muni</th>\n",
       "      <th>codigo_muni</th>\n",
       "      <th>codigo_evento</th>\n",
       "      <th>evento</th>\n",
       "      <th>edad</th>\n",
       "      <th>sexo</th>\n",
       "      <th>num_casos</th>\n",
       "      <th>población</th>\n",
       "    </tr>\n",
       "  </thead>\n",
       "  <tbody>\n",
       "    <tr>\n",
       "      <th>0</th>\n",
       "      <td>2020</td>\n",
       "      <td>05</td>\n",
       "      <td>Antioquia</td>\n",
       "      <td>Abejorral</td>\n",
       "      <td>05002</td>\n",
       "      <td>102</td>\n",
       "      <td>Tuberculosis</td>\n",
       "      <td>15-44 años</td>\n",
       "      <td>Hombres</td>\n",
       "      <td>1</td>\n",
       "      <td>4393</td>\n",
       "    </tr>\n",
       "    <tr>\n",
       "      <th>1</th>\n",
       "      <td>2020</td>\n",
       "      <td>05</td>\n",
       "      <td>Antioquia</td>\n",
       "      <td>Abejorral</td>\n",
       "      <td>05002</td>\n",
       "      <td>501</td>\n",
       "      <td>Accidentes de transporte terrestre</td>\n",
       "      <td>15-44 años</td>\n",
       "      <td>Hombres</td>\n",
       "      <td>1</td>\n",
       "      <td>4393</td>\n",
       "    </tr>\n",
       "    <tr>\n",
       "      <th>2</th>\n",
       "      <td>2020</td>\n",
       "      <td>05</td>\n",
       "      <td>Antioquia</td>\n",
       "      <td>Abejorral</td>\n",
       "      <td>05002</td>\n",
       "      <td>511</td>\n",
       "      <td>Lesiones autoinfligidas intencionalmente (suic...</td>\n",
       "      <td>15-44 años</td>\n",
       "      <td>Hombres</td>\n",
       "      <td>1</td>\n",
       "      <td>4393</td>\n",
       "    </tr>\n",
       "    <tr>\n",
       "      <th>3</th>\n",
       "      <td>2020</td>\n",
       "      <td>05</td>\n",
       "      <td>Antioquia</td>\n",
       "      <td>Abejorral</td>\n",
       "      <td>05002</td>\n",
       "      <td>512</td>\n",
       "      <td>Agresiones (homicidios)</td>\n",
       "      <td>15-44 años</td>\n",
       "      <td>Hombres</td>\n",
       "      <td>1</td>\n",
       "      <td>4393</td>\n",
       "    </tr>\n",
       "    <tr>\n",
       "      <th>4</th>\n",
       "      <td>2020</td>\n",
       "      <td>05</td>\n",
       "      <td>Antioquia</td>\n",
       "      <td>Abejorral</td>\n",
       "      <td>05002</td>\n",
       "      <td>108</td>\n",
       "      <td>Infecciones respiratorias agudas</td>\n",
       "      <td>65+ años</td>\n",
       "      <td>Hombres</td>\n",
       "      <td>1</td>\n",
       "      <td>1358</td>\n",
       "    </tr>\n",
       "  </tbody>\n",
       "</table>\n",
       "</div>"
      ],
      "text/plain": [
       "   anio codigo_depto nombre_depto nombre_muni codigo_muni  codigo_evento  \\\n",
       "0  2020           05    Antioquia   Abejorral       05002            102   \n",
       "1  2020           05    Antioquia   Abejorral       05002            501   \n",
       "2  2020           05    Antioquia   Abejorral       05002            511   \n",
       "3  2020           05    Antioquia   Abejorral       05002            512   \n",
       "4  2020           05    Antioquia   Abejorral       05002            108   \n",
       "\n",
       "                                              evento        edad     sexo  \\\n",
       "0                                       Tuberculosis  15-44 años  Hombres   \n",
       "1                 Accidentes de transporte terrestre  15-44 años  Hombres   \n",
       "2  Lesiones autoinfligidas intencionalmente (suic...  15-44 años  Hombres   \n",
       "3                            Agresiones (homicidios)  15-44 años  Hombres   \n",
       "4                   Infecciones respiratorias agudas    65+ años  Hombres   \n",
       "\n",
       "   num_casos  población  \n",
       "0          1       4393  \n",
       "1          1       4393  \n",
       "2          1       4393  \n",
       "3          1       4393  \n",
       "4          1       1358  "
      ]
     },
     "execution_count": 2,
     "metadata": {},
     "output_type": "execute_result"
    }
   ],
   "source": [
    "#Carga de los datos principales\n",
    "value_types = {'codigo_muni':'string','codigo_depto':'string'}\n",
    "df_main = pd.read_csv('data_generated/data_ready.csv',sep=',',index_col=False,low_memory=False,dtype=value_types)\n",
    "df_main.head()"
   ]
  },
  {
   "cell_type": "markdown",
   "id": "3f943002",
   "metadata": {},
   "source": [
    "# Creación de dimensiones y tabla de hechos"
   ]
  },
  {
   "cell_type": "markdown",
   "id": "27d252f0",
   "metadata": {},
   "source": [
    "## Creación dimensión Fecha"
   ]
  },
  {
   "cell_type": "code",
   "execution_count": 3,
   "id": "796e6bc6",
   "metadata": {},
   "outputs": [],
   "source": [
    "#Creamos el dataframe\n",
    "df_fecha = pd.DataFrame(df_main[\"anio\"].unique())\n",
    "df_fecha = df_fecha.reset_index()\n",
    "df_fecha.columns = [\"fecha_key\", \"anio\"]\n",
    "df_fecha[\"fecha_key\"] = df_fecha[\"fecha_key\"]+1"
   ]
  },
  {
   "cell_type": "code",
   "execution_count": 4,
   "id": "ad487a5b",
   "metadata": {},
   "outputs": [
    {
     "data": {
      "text/html": [
       "<div>\n",
       "<style scoped>\n",
       "    .dataframe tbody tr th:only-of-type {\n",
       "        vertical-align: middle;\n",
       "    }\n",
       "\n",
       "    .dataframe tbody tr th {\n",
       "        vertical-align: top;\n",
       "    }\n",
       "\n",
       "    .dataframe thead th {\n",
       "        text-align: right;\n",
       "    }\n",
       "</style>\n",
       "<table border=\"1\" class=\"dataframe\">\n",
       "  <thead>\n",
       "    <tr style=\"text-align: right;\">\n",
       "      <th></th>\n",
       "      <th>fecha_key</th>\n",
       "      <th>anio</th>\n",
       "    </tr>\n",
       "  </thead>\n",
       "  <tbody>\n",
       "    <tr>\n",
       "      <th>0</th>\n",
       "      <td>1</td>\n",
       "      <td>2020</td>\n",
       "    </tr>\n",
       "  </tbody>\n",
       "</table>\n",
       "</div>"
      ],
      "text/plain": [
       "   fecha_key  anio\n",
       "0          1  2020"
      ]
     },
     "execution_count": 4,
     "metadata": {},
     "output_type": "execute_result"
    }
   ],
   "source": [
    "#Veamos el dataframe\n",
    "df_fecha.head(5)"
   ]
  },
  {
   "cell_type": "code",
   "execution_count": 5,
   "id": "0edddece",
   "metadata": {},
   "outputs": [],
   "source": [
    "#Guardamos la dimensión fecha\n",
    "df_fecha.to_csv('data_generated/dim_fecha.csv',index = False)"
   ]
  },
  {
   "cell_type": "markdown",
   "id": "53256d62",
   "metadata": {},
   "source": [
    "## Creación dimensión Perfil"
   ]
  },
  {
   "cell_type": "code",
   "execution_count": 6,
   "id": "a1b68216",
   "metadata": {},
   "outputs": [
    {
     "data": {
      "text/html": [
       "<div>\n",
       "<style scoped>\n",
       "    .dataframe tbody tr th:only-of-type {\n",
       "        vertical-align: middle;\n",
       "    }\n",
       "\n",
       "    .dataframe tbody tr th {\n",
       "        vertical-align: top;\n",
       "    }\n",
       "\n",
       "    .dataframe thead th {\n",
       "        text-align: right;\n",
       "    }\n",
       "</style>\n",
       "<table border=\"1\" class=\"dataframe\">\n",
       "  <thead>\n",
       "    <tr style=\"text-align: right;\">\n",
       "      <th></th>\n",
       "      <th>0_x</th>\n",
       "      <th>a</th>\n",
       "      <th>0_y</th>\n",
       "    </tr>\n",
       "  </thead>\n",
       "  <tbody>\n",
       "    <tr>\n",
       "      <th>0</th>\n",
       "      <td>15-44 años</td>\n",
       "      <td>a</td>\n",
       "      <td>Hombres</td>\n",
       "    </tr>\n",
       "    <tr>\n",
       "      <th>1</th>\n",
       "      <td>15-44 años</td>\n",
       "      <td>a</td>\n",
       "      <td>Mujeres</td>\n",
       "    </tr>\n",
       "    <tr>\n",
       "      <th>2</th>\n",
       "      <td>65+ años</td>\n",
       "      <td>a</td>\n",
       "      <td>Hombres</td>\n",
       "    </tr>\n",
       "    <tr>\n",
       "      <th>3</th>\n",
       "      <td>65+ años</td>\n",
       "      <td>a</td>\n",
       "      <td>Mujeres</td>\n",
       "    </tr>\n",
       "    <tr>\n",
       "      <th>4</th>\n",
       "      <td>45-64 años</td>\n",
       "      <td>a</td>\n",
       "      <td>Hombres</td>\n",
       "    </tr>\n",
       "  </tbody>\n",
       "</table>\n",
       "</div>"
      ],
      "text/plain": [
       "          0_x  a      0_y\n",
       "0  15-44 años  a  Hombres\n",
       "1  15-44 años  a  Mujeres\n",
       "2    65+ años  a  Hombres\n",
       "3    65+ años  a  Mujeres\n",
       "4  45-64 años  a  Hombres"
      ]
     },
     "execution_count": 6,
     "metadata": {},
     "output_type": "execute_result"
    }
   ],
   "source": [
    "#obtengo edades y sexo unicas, luego creo a para hacer un join sin parametro\n",
    "list_edad = pd.DataFrame(df_main[\"edad\"].unique())\n",
    "list_edad[\"a\"] = \"a\"\n",
    "list_sexo = pd.DataFrame(df_main[\"sexo\"].unique())\n",
    "list_sexo[\"a\"] = \"a\"\n",
    "\n",
    "mix1 = pd.merge(list_edad, list_sexo, on=\"a\")\n",
    "mix1.head(5)"
   ]
  },
  {
   "cell_type": "code",
   "execution_count": 7,
   "id": "9cc4377e",
   "metadata": {},
   "outputs": [
    {
     "data": {
      "text/html": [
       "<div>\n",
       "<style scoped>\n",
       "    .dataframe tbody tr th:only-of-type {\n",
       "        vertical-align: middle;\n",
       "    }\n",
       "\n",
       "    .dataframe tbody tr th {\n",
       "        vertical-align: top;\n",
       "    }\n",
       "\n",
       "    .dataframe thead th {\n",
       "        text-align: right;\n",
       "    }\n",
       "</style>\n",
       "<table border=\"1\" class=\"dataframe\">\n",
       "  <thead>\n",
       "    <tr style=\"text-align: right;\">\n",
       "      <th></th>\n",
       "      <th>perfil_key</th>\n",
       "      <th>edad</th>\n",
       "      <th>sexo</th>\n",
       "    </tr>\n",
       "  </thead>\n",
       "  <tbody>\n",
       "    <tr>\n",
       "      <th>0</th>\n",
       "      <td>1</td>\n",
       "      <td>15-44 años</td>\n",
       "      <td>Hombres</td>\n",
       "    </tr>\n",
       "    <tr>\n",
       "      <th>1</th>\n",
       "      <td>2</td>\n",
       "      <td>15-44 años</td>\n",
       "      <td>Mujeres</td>\n",
       "    </tr>\n",
       "    <tr>\n",
       "      <th>2</th>\n",
       "      <td>3</td>\n",
       "      <td>65+ años</td>\n",
       "      <td>Hombres</td>\n",
       "    </tr>\n",
       "    <tr>\n",
       "      <th>3</th>\n",
       "      <td>4</td>\n",
       "      <td>65+ años</td>\n",
       "      <td>Mujeres</td>\n",
       "    </tr>\n",
       "    <tr>\n",
       "      <th>4</th>\n",
       "      <td>5</td>\n",
       "      <td>45-64 años</td>\n",
       "      <td>Hombres</td>\n",
       "    </tr>\n",
       "  </tbody>\n",
       "</table>\n",
       "</div>"
      ],
      "text/plain": [
       "   perfil_key        edad     sexo\n",
       "0           1  15-44 años  Hombres\n",
       "1           2  15-44 años  Mujeres\n",
       "2           3    65+ años  Hombres\n",
       "3           4    65+ años  Mujeres\n",
       "4           5  45-64 años  Hombres"
      ]
     },
     "execution_count": 7,
     "metadata": {},
     "output_type": "execute_result"
    }
   ],
   "source": [
    "#Creamos el dataframe\n",
    "df_perfil = mix1.copy()\n",
    "df_perfil = df_perfil.drop(columns=['a'])\n",
    "df_perfil = df_perfil.reset_index()\n",
    "df_perfil.columns = [\"perfil_key\",\"edad\", \"sexo\"]\n",
    "df_perfil[\"perfil_key\"] = df_perfil[\"perfil_key\"]+1\n",
    "df_perfil.head(5)"
   ]
  },
  {
   "cell_type": "code",
   "execution_count": 8,
   "id": "c14d902d",
   "metadata": {},
   "outputs": [],
   "source": [
    "#Guardamos la dimensión perfil\n",
    "df_perfil.to_csv('data_generated/dim_perfil.csv',index = False)"
   ]
  },
  {
   "cell_type": "markdown",
   "id": "985cc0b0",
   "metadata": {},
   "source": [
    "## Creación dimensión Lugar"
   ]
  },
  {
   "cell_type": "code",
   "execution_count": 9,
   "id": "5774481d",
   "metadata": {},
   "outputs": [],
   "source": [
    "#Vamos a usar otra fuente de datos para traer locaciones geograficas\n",
    "value_types = {'codigo_muni':'string','codigo_depto':'string'}\n",
    "col_depto = pd.read_csv('data_source/colombia_depto.csv', encoding='utf8',dtype=value_types)\n",
    "col_muni  = pd.read_csv('data_source/colombia_muni.csv', encoding='utf8',dtype=value_types) \n",
    "\n",
    "#luego lo \"desarreglamos\"\n",
    "col_depto[\"lati_depto\"] = col_depto[\"lati_depto\"].apply(lambda x : str(x))\n",
    "col_depto[\"long_depto\"] = col_depto[\"long_depto\"].apply(lambda x : str(x))\n",
    "col_muni[\"lati_muni\"] = col_muni[\"lati_muni\"].apply(lambda x : str(x))\n",
    "col_muni[\"long_muni\"] = col_muni[\"long_muni\"].apply(lambda x : str(x))\n",
    "\n",
    "#Arreglamos pa que todo quede con comas\n",
    "col_depto[\"lati_depto\"] = col_depto[\"lati_depto\"].apply(lambda x : x.replace(\".\",\",\"))\n",
    "col_depto[\"long_depto\"] = col_depto[\"long_depto\"].apply(lambda x : x.replace(\".\",\",\"))\n",
    "col_muni[\"lati_muni\"] = col_muni[\"lati_muni\"].apply(lambda x : x.replace(\".\",\",\"))\n",
    "col_muni[\"long_muni\"] = col_muni[\"long_muni\"].apply(lambda x : x.replace(\".\",\",\"))"
   ]
  },
  {
   "cell_type": "code",
   "execution_count": 10,
   "id": "15f1edbf",
   "metadata": {},
   "outputs": [
    {
     "data": {
      "text/html": [
       "<div>\n",
       "<style scoped>\n",
       "    .dataframe tbody tr th:only-of-type {\n",
       "        vertical-align: middle;\n",
       "    }\n",
       "\n",
       "    .dataframe tbody tr th {\n",
       "        vertical-align: top;\n",
       "    }\n",
       "\n",
       "    .dataframe thead th {\n",
       "        text-align: right;\n",
       "    }\n",
       "</style>\n",
       "<table border=\"1\" class=\"dataframe\">\n",
       "  <thead>\n",
       "    <tr style=\"text-align: right;\">\n",
       "      <th></th>\n",
       "      <th>codigo_muni</th>\n",
       "      <th>nombre_muni</th>\n",
       "      <th>codigo_depto</th>\n",
       "      <th>nombre_depto</th>\n",
       "      <th>lati_muni</th>\n",
       "      <th>long_muni</th>\n",
       "    </tr>\n",
       "  </thead>\n",
       "  <tbody>\n",
       "    <tr>\n",
       "      <th>0</th>\n",
       "      <td>05002</td>\n",
       "      <td>Abejorral</td>\n",
       "      <td>05</td>\n",
       "      <td>Antioquia</td>\n",
       "      <td>5,75</td>\n",
       "      <td>-75,4166667</td>\n",
       "    </tr>\n",
       "    <tr>\n",
       "      <th>1</th>\n",
       "      <td>05004</td>\n",
       "      <td>Abriaquí</td>\n",
       "      <td>05</td>\n",
       "      <td>Antioquia</td>\n",
       "      <td>6,6666667</td>\n",
       "      <td>-76,0833333</td>\n",
       "    </tr>\n",
       "    <tr>\n",
       "      <th>2</th>\n",
       "      <td>50006</td>\n",
       "      <td>Acacías</td>\n",
       "      <td>50</td>\n",
       "      <td>Meta</td>\n",
       "      <td>3,9166667</td>\n",
       "      <td>-73,8333333</td>\n",
       "    </tr>\n",
       "  </tbody>\n",
       "</table>\n",
       "</div>"
      ],
      "text/plain": [
       "  codigo_muni nombre_muni codigo_depto nombre_depto  lati_muni    long_muni\n",
       "0       05002   Abejorral           05    Antioquia       5,75  -75,4166667\n",
       "1       05004    Abriaquí           05    Antioquia  6,6666667  -76,0833333\n",
       "2       50006     Acacías           50         Meta  3,9166667  -73,8333333"
      ]
     },
     "execution_count": 10,
     "metadata": {},
     "output_type": "execute_result"
    }
   ],
   "source": [
    "col_muni.head(3)"
   ]
  },
  {
   "cell_type": "code",
   "execution_count": 11,
   "id": "e7e189eb",
   "metadata": {
    "scrolled": true
   },
   "outputs": [
    {
     "data": {
      "text/html": [
       "<div>\n",
       "<style scoped>\n",
       "    .dataframe tbody tr th:only-of-type {\n",
       "        vertical-align: middle;\n",
       "    }\n",
       "\n",
       "    .dataframe tbody tr th {\n",
       "        vertical-align: top;\n",
       "    }\n",
       "\n",
       "    .dataframe thead th {\n",
       "        text-align: right;\n",
       "    }\n",
       "</style>\n",
       "<table border=\"1\" class=\"dataframe\">\n",
       "  <thead>\n",
       "    <tr style=\"text-align: right;\">\n",
       "      <th></th>\n",
       "      <th>codigo_depto</th>\n",
       "      <th>nombre_depto</th>\n",
       "      <th>lati_depto</th>\n",
       "      <th>long_depto</th>\n",
       "    </tr>\n",
       "  </thead>\n",
       "  <tbody>\n",
       "    <tr>\n",
       "      <th>0</th>\n",
       "      <td>91</td>\n",
       "      <td>Amazonas</td>\n",
       "      <td>-1,0197222</td>\n",
       "      <td>-71,9383333</td>\n",
       "    </tr>\n",
       "    <tr>\n",
       "      <th>1</th>\n",
       "      <td>05</td>\n",
       "      <td>Antioquia</td>\n",
       "      <td>7,0</td>\n",
       "      <td>-75,5</td>\n",
       "    </tr>\n",
       "    <tr>\n",
       "      <th>2</th>\n",
       "      <td>81</td>\n",
       "      <td>Arauca</td>\n",
       "      <td>7,0902778</td>\n",
       "      <td>-70,7616667</td>\n",
       "    </tr>\n",
       "  </tbody>\n",
       "</table>\n",
       "</div>"
      ],
      "text/plain": [
       "  codigo_depto nombre_depto  lati_depto   long_depto\n",
       "0           91     Amazonas  -1,0197222  -71,9383333\n",
       "1           05    Antioquia         7,0        -75,5\n",
       "2           81       Arauca   7,0902778  -70,7616667"
      ]
     },
     "execution_count": 11,
     "metadata": {},
     "output_type": "execute_result"
    }
   ],
   "source": [
    "col_depto.head(3)"
   ]
  },
  {
   "cell_type": "code",
   "execution_count": 12,
   "id": "fc8ea212",
   "metadata": {},
   "outputs": [],
   "source": [
    "#Traemos la info del lugar\n",
    "df_lugar = df_main[['codigo_depto','nombre_depto','codigo_muni','nombre_muni']]\n",
    "#Quitamos duplicados\n",
    "df_lugar = df_lugar.drop_duplicates()\n",
    "#Le ponemos indices\n",
    "df_lugar = df_lugar.reset_index()\n",
    "df_lugar.columns = ['lugar_key','codigo_depto','nombre_depto','codigo_muni','nombre_muni']\n",
    "df_lugar[\"lugar_key\"] = df_lugar[\"lugar_key\"]+1\n",
    "\n",
    "#Hago el merge con col_depto\n",
    "df_lugar = pd.merge(df_lugar, col_depto, on=[\"codigo_depto\",'nombre_depto'])\n",
    "#Hago el merge con col_muni\n",
    "df_lugar = pd.merge(df_lugar, col_muni, on=[\"codigo_muni\",'nombre_muni',\"codigo_depto\",'nombre_depto'])"
   ]
  },
  {
   "cell_type": "code",
   "execution_count": 13,
   "id": "0da06ed8",
   "metadata": {
    "scrolled": true
   },
   "outputs": [
    {
     "data": {
      "text/html": [
       "<div>\n",
       "<style scoped>\n",
       "    .dataframe tbody tr th:only-of-type {\n",
       "        vertical-align: middle;\n",
       "    }\n",
       "\n",
       "    .dataframe tbody tr th {\n",
       "        vertical-align: top;\n",
       "    }\n",
       "\n",
       "    .dataframe thead th {\n",
       "        text-align: right;\n",
       "    }\n",
       "</style>\n",
       "<table border=\"1\" class=\"dataframe\">\n",
       "  <thead>\n",
       "    <tr style=\"text-align: right;\">\n",
       "      <th></th>\n",
       "      <th>lugar_key</th>\n",
       "      <th>codigo_depto</th>\n",
       "      <th>nombre_depto</th>\n",
       "      <th>codigo_muni</th>\n",
       "      <th>nombre_muni</th>\n",
       "      <th>lati_depto</th>\n",
       "      <th>long_depto</th>\n",
       "      <th>lati_muni</th>\n",
       "      <th>long_muni</th>\n",
       "    </tr>\n",
       "  </thead>\n",
       "  <tbody>\n",
       "    <tr>\n",
       "      <th>0</th>\n",
       "      <td>1</td>\n",
       "      <td>05</td>\n",
       "      <td>Antioquia</td>\n",
       "      <td>05002</td>\n",
       "      <td>Abejorral</td>\n",
       "      <td>7,0</td>\n",
       "      <td>-75,5</td>\n",
       "      <td>5,75</td>\n",
       "      <td>-75,4166667</td>\n",
       "    </tr>\n",
       "    <tr>\n",
       "      <th>1</th>\n",
       "      <td>51</td>\n",
       "      <td>05</td>\n",
       "      <td>Antioquia</td>\n",
       "      <td>05004</td>\n",
       "      <td>Abriaquí</td>\n",
       "      <td>7,0</td>\n",
       "      <td>-75,5</td>\n",
       "      <td>6,6666667</td>\n",
       "      <td>-76,0833333</td>\n",
       "    </tr>\n",
       "    <tr>\n",
       "      <th>2</th>\n",
       "      <td>71</td>\n",
       "      <td>05</td>\n",
       "      <td>Antioquia</td>\n",
       "      <td>05030</td>\n",
       "      <td>Amagá</td>\n",
       "      <td>7,0</td>\n",
       "      <td>-75,5</td>\n",
       "      <td>6,05</td>\n",
       "      <td>-75,7</td>\n",
       "    </tr>\n",
       "    <tr>\n",
       "      <th>3</th>\n",
       "      <td>120</td>\n",
       "      <td>05</td>\n",
       "      <td>Antioquia</td>\n",
       "      <td>05031</td>\n",
       "      <td>Amalfi</td>\n",
       "      <td>7,0</td>\n",
       "      <td>-75,5</td>\n",
       "      <td>7,0</td>\n",
       "      <td>-74,9166667</td>\n",
       "    </tr>\n",
       "    <tr>\n",
       "      <th>4</th>\n",
       "      <td>161</td>\n",
       "      <td>05</td>\n",
       "      <td>Antioquia</td>\n",
       "      <td>05034</td>\n",
       "      <td>Andes</td>\n",
       "      <td>7,0</td>\n",
       "      <td>-75,5</td>\n",
       "      <td>5,5833333</td>\n",
       "      <td>-75,9166667</td>\n",
       "    </tr>\n",
       "  </tbody>\n",
       "</table>\n",
       "</div>"
      ],
      "text/plain": [
       "   lugar_key codigo_depto nombre_depto codigo_muni nombre_muni lati_depto  \\\n",
       "0          1           05    Antioquia       05002   Abejorral        7,0   \n",
       "1         51           05    Antioquia       05004    Abriaquí        7,0   \n",
       "2         71           05    Antioquia       05030       Amagá        7,0   \n",
       "3        120           05    Antioquia       05031      Amalfi        7,0   \n",
       "4        161           05    Antioquia       05034       Andes        7,0   \n",
       "\n",
       "  long_depto  lati_muni    long_muni  \n",
       "0      -75,5       5,75  -75,4166667  \n",
       "1      -75,5  6,6666667  -76,0833333  \n",
       "2      -75,5       6,05        -75,7  \n",
       "3      -75,5        7,0  -74,9166667  \n",
       "4      -75,5  5,5833333  -75,9166667  "
      ]
     },
     "execution_count": 13,
     "metadata": {},
     "output_type": "execute_result"
    }
   ],
   "source": [
    "df_lugar.head()"
   ]
  },
  {
   "cell_type": "code",
   "execution_count": 14,
   "id": "c68eab40",
   "metadata": {},
   "outputs": [],
   "source": [
    "#Guardamos la dimensión lugar\n",
    "df_lugar.to_csv('data_generated/dim_lugar.csv',index = False, sep = \";\")"
   ]
  },
  {
   "cell_type": "markdown",
   "id": "06fb1e6d",
   "metadata": {},
   "source": [
    "## Creación dimensión Evento"
   ]
  },
  {
   "cell_type": "code",
   "execution_count": 15,
   "id": "a5950b7b",
   "metadata": {},
   "outputs": [
    {
     "data": {
      "text/html": [
       "<div>\n",
       "<style scoped>\n",
       "    .dataframe tbody tr th:only-of-type {\n",
       "        vertical-align: middle;\n",
       "    }\n",
       "\n",
       "    .dataframe tbody tr th {\n",
       "        vertical-align: top;\n",
       "    }\n",
       "\n",
       "    .dataframe thead th {\n",
       "        text-align: right;\n",
       "    }\n",
       "</style>\n",
       "<table border=\"1\" class=\"dataframe\">\n",
       "  <thead>\n",
       "    <tr style=\"text-align: right;\">\n",
       "      <th></th>\n",
       "      <th>evento_key</th>\n",
       "      <th>codigo_evento</th>\n",
       "      <th>evento</th>\n",
       "    </tr>\n",
       "  </thead>\n",
       "  <tbody>\n",
       "    <tr>\n",
       "      <th>0</th>\n",
       "      <td>1</td>\n",
       "      <td>102</td>\n",
       "      <td>Tuberculosis</td>\n",
       "    </tr>\n",
       "    <tr>\n",
       "      <th>1</th>\n",
       "      <td>2</td>\n",
       "      <td>501</td>\n",
       "      <td>Accidentes de transporte terrestre</td>\n",
       "    </tr>\n",
       "    <tr>\n",
       "      <th>2</th>\n",
       "      <td>3</td>\n",
       "      <td>511</td>\n",
       "      <td>Lesiones autoinfligidas intencionalmente (suic...</td>\n",
       "    </tr>\n",
       "    <tr>\n",
       "      <th>3</th>\n",
       "      <td>4</td>\n",
       "      <td>512</td>\n",
       "      <td>Agresiones (homicidios)</td>\n",
       "    </tr>\n",
       "    <tr>\n",
       "      <th>4</th>\n",
       "      <td>5</td>\n",
       "      <td>108</td>\n",
       "      <td>Infecciones respiratorias agudas</td>\n",
       "    </tr>\n",
       "  </tbody>\n",
       "</table>\n",
       "</div>"
      ],
      "text/plain": [
       "   evento_key  codigo_evento  \\\n",
       "0           1            102   \n",
       "1           2            501   \n",
       "2           3            511   \n",
       "3           4            512   \n",
       "4           5            108   \n",
       "\n",
       "                                              evento  \n",
       "0                                       Tuberculosis  \n",
       "1                 Accidentes de transporte terrestre  \n",
       "2  Lesiones autoinfligidas intencionalmente (suic...  \n",
       "3                            Agresiones (homicidios)  \n",
       "4                   Infecciones respiratorias agudas  "
      ]
     },
     "execution_count": 15,
     "metadata": {},
     "output_type": "execute_result"
    }
   ],
   "source": [
    "#Traemos la info del evento\n",
    "df_evento = df_main[[\"codigo_evento\",\"evento\"]]\n",
    "#Quitamos duplicados\n",
    "df_evento = df_evento.drop_duplicates()\n",
    "#Le ponemos los indices\n",
    "df_evento = df_evento.reset_index()\n",
    "df_evento.columns = [\"evento_key\",\"codigo_evento\",\"evento\"]\n",
    "df_evento[\"evento_key\"] = df_evento[\"evento_key\"]+1\n",
    "#Imprimo\n",
    "df_evento.head(5)"
   ]
  },
  {
   "cell_type": "code",
   "execution_count": 16,
   "id": "42ba9dc3",
   "metadata": {},
   "outputs": [],
   "source": [
    "#Guardamos la dimensión lugar\n",
    "df_evento.to_csv('data_generated/dim_evento.csv',index = False)"
   ]
  },
  {
   "cell_type": "markdown",
   "id": "196f56ce",
   "metadata": {},
   "source": [
    "## Creamos la Fact Table"
   ]
  },
  {
   "cell_type": "code",
   "execution_count": 17,
   "id": "ce8757d3",
   "metadata": {},
   "outputs": [
    {
     "data": {
      "text/html": [
       "<div>\n",
       "<style scoped>\n",
       "    .dataframe tbody tr th:only-of-type {\n",
       "        vertical-align: middle;\n",
       "    }\n",
       "\n",
       "    .dataframe tbody tr th {\n",
       "        vertical-align: top;\n",
       "    }\n",
       "\n",
       "    .dataframe thead th {\n",
       "        text-align: right;\n",
       "    }\n",
       "</style>\n",
       "<table border=\"1\" class=\"dataframe\">\n",
       "  <thead>\n",
       "    <tr style=\"text-align: right;\">\n",
       "      <th></th>\n",
       "      <th>fact_key</th>\n",
       "      <th>num_casos</th>\n",
       "      <th>población</th>\n",
       "      <th>fecha_key</th>\n",
       "      <th>perfil_key</th>\n",
       "      <th>lugar_key</th>\n",
       "      <th>evento_key</th>\n",
       "    </tr>\n",
       "  </thead>\n",
       "  <tbody>\n",
       "    <tr>\n",
       "      <th>0</th>\n",
       "      <td>0</td>\n",
       "      <td>1</td>\n",
       "      <td>4393</td>\n",
       "      <td>1</td>\n",
       "      <td>1</td>\n",
       "      <td>1</td>\n",
       "      <td>1</td>\n",
       "    </tr>\n",
       "    <tr>\n",
       "      <th>1</th>\n",
       "      <td>1</td>\n",
       "      <td>1</td>\n",
       "      <td>3599</td>\n",
       "      <td>1</td>\n",
       "      <td>5</td>\n",
       "      <td>71</td>\n",
       "      <td>1</td>\n",
       "    </tr>\n",
       "    <tr>\n",
       "      <th>2</th>\n",
       "      <td>2</td>\n",
       "      <td>1</td>\n",
       "      <td>2326</td>\n",
       "      <td>1</td>\n",
       "      <td>3</td>\n",
       "      <td>161</td>\n",
       "      <td>1</td>\n",
       "    </tr>\n",
       "    <tr>\n",
       "      <th>3</th>\n",
       "      <td>3</td>\n",
       "      <td>1</td>\n",
       "      <td>2774</td>\n",
       "      <td>1</td>\n",
       "      <td>3</td>\n",
       "      <td>492</td>\n",
       "      <td>1</td>\n",
       "    </tr>\n",
       "    <tr>\n",
       "      <th>4</th>\n",
       "      <td>4</td>\n",
       "      <td>6</td>\n",
       "      <td>18453</td>\n",
       "      <td>1</td>\n",
       "      <td>3</td>\n",
       "      <td>559</td>\n",
       "      <td>1</td>\n",
       "    </tr>\n",
       "  </tbody>\n",
       "</table>\n",
       "</div>"
      ],
      "text/plain": [
       "   fact_key  num_casos  población  fecha_key  perfil_key  lugar_key  \\\n",
       "0         0          1       4393          1           1          1   \n",
       "1         1          1       3599          1           5         71   \n",
       "2         2          1       2326          1           3        161   \n",
       "3         3          1       2774          1           3        492   \n",
       "4         4          6      18453          1           3        559   \n",
       "\n",
       "   evento_key  \n",
       "0           1  \n",
       "1           1  \n",
       "2           1  \n",
       "3           1  \n",
       "4           1  "
      ]
     },
     "execution_count": 17,
     "metadata": {},
     "output_type": "execute_result"
    }
   ],
   "source": [
    "fact_table = df_main.copy()\n",
    "\n",
    "#Actualizamos la tabla principal con fecha\n",
    "fact_table = pd.merge(fact_table, df_fecha, on=\"anio\")\n",
    "fact_table = fact_table.drop(columns=['anio'])\n",
    "\n",
    "#Actualizamos la tabla principal con perfil\n",
    "fact_table = pd.merge(fact_table, df_perfil,  on=['edad','sexo'])\n",
    "fact_table = fact_table.drop(columns=['edad','sexo'])\n",
    "\n",
    "#Actualizamos la tabla principal con lugar\n",
    "fact_table = pd.merge(fact_table, df_lugar,  on=['codigo_depto','nombre_depto','nombre_muni','codigo_muni'])\n",
    "fact_table = fact_table.drop(columns=['codigo_depto','nombre_depto','nombre_muni','codigo_muni',\n",
    "                                      'lati_depto','long_depto','lati_muni','long_muni'\n",
    "                                     ]\n",
    "                            )\n",
    "#Actualizamos la tabla principal con evento\n",
    "fact_table = pd.merge(fact_table, df_evento, on=[\"evento\",\"codigo_evento\"])\n",
    "fact_table = fact_table.drop(columns=['evento', \"codigo_evento\"])\n",
    "\n",
    "#Antes de guardar la tabla de hechos\n",
    "fact_table=fact_table.reset_index()\n",
    "fact_table.columns = [\"fact_key\", \"num_casos\", \"población\", \"fecha_key\",\n",
    "                      \"perfil_key\",\"lugar_key\",\"evento_key\"]\n",
    "\n",
    "#Imprimo\n",
    "fact_table.head(5)"
   ]
  },
  {
   "cell_type": "markdown",
   "id": "4351e513",
   "metadata": {},
   "source": [
    "## Dividimos en dos la fact table"
   ]
  },
  {
   "cell_type": "code",
   "execution_count": 18,
   "id": "2e14f739",
   "metadata": {},
   "outputs": [],
   "source": [
    "fact_table1 = fact_table.copy()\n",
    "fact_table1 = fact_table1[[\"fact_key\",\"num_casos\",\"fecha_key\",\"perfil_key\",\"lugar_key\",\"evento_key\"]]\n",
    "fact_table2 = fact_table.copy()\n",
    "fact_table2 = fact_table2[[\"fact_key\",\"población\",\"fecha_key\",\"perfil_key\",\"lugar_key\"]]"
   ]
  },
  {
   "cell_type": "code",
   "execution_count": 19,
   "id": "575baf7f",
   "metadata": {},
   "outputs": [
    {
     "data": {
      "text/html": [
       "<div>\n",
       "<style scoped>\n",
       "    .dataframe tbody tr th:only-of-type {\n",
       "        vertical-align: middle;\n",
       "    }\n",
       "\n",
       "    .dataframe tbody tr th {\n",
       "        vertical-align: top;\n",
       "    }\n",
       "\n",
       "    .dataframe thead th {\n",
       "        text-align: right;\n",
       "    }\n",
       "</style>\n",
       "<table border=\"1\" class=\"dataframe\">\n",
       "  <thead>\n",
       "    <tr style=\"text-align: right;\">\n",
       "      <th></th>\n",
       "      <th>fact_key</th>\n",
       "      <th>num_casos</th>\n",
       "      <th>fecha_key</th>\n",
       "      <th>perfil_key</th>\n",
       "      <th>lugar_key</th>\n",
       "      <th>evento_key</th>\n",
       "    </tr>\n",
       "  </thead>\n",
       "  <tbody>\n",
       "    <tr>\n",
       "      <th>0</th>\n",
       "      <td>0</td>\n",
       "      <td>1</td>\n",
       "      <td>1</td>\n",
       "      <td>1</td>\n",
       "      <td>1</td>\n",
       "      <td>1</td>\n",
       "    </tr>\n",
       "    <tr>\n",
       "      <th>1</th>\n",
       "      <td>1</td>\n",
       "      <td>1</td>\n",
       "      <td>1</td>\n",
       "      <td>5</td>\n",
       "      <td>71</td>\n",
       "      <td>1</td>\n",
       "    </tr>\n",
       "  </tbody>\n",
       "</table>\n",
       "</div>"
      ],
      "text/plain": [
       "   fact_key  num_casos  fecha_key  perfil_key  lugar_key  evento_key\n",
       "0         0          1          1           1          1           1\n",
       "1         1          1          1           5         71           1"
      ]
     },
     "execution_count": 19,
     "metadata": {},
     "output_type": "execute_result"
    }
   ],
   "source": [
    "fact_table1.head(2)"
   ]
  },
  {
   "cell_type": "code",
   "execution_count": 20,
   "id": "b74e72fe",
   "metadata": {},
   "outputs": [
    {
     "data": {
      "text/html": [
       "<div>\n",
       "<style scoped>\n",
       "    .dataframe tbody tr th:only-of-type {\n",
       "        vertical-align: middle;\n",
       "    }\n",
       "\n",
       "    .dataframe tbody tr th {\n",
       "        vertical-align: top;\n",
       "    }\n",
       "\n",
       "    .dataframe thead th {\n",
       "        text-align: right;\n",
       "    }\n",
       "</style>\n",
       "<table border=\"1\" class=\"dataframe\">\n",
       "  <thead>\n",
       "    <tr style=\"text-align: right;\">\n",
       "      <th></th>\n",
       "      <th>fact_key</th>\n",
       "      <th>población</th>\n",
       "      <th>fecha_key</th>\n",
       "      <th>perfil_key</th>\n",
       "      <th>lugar_key</th>\n",
       "    </tr>\n",
       "  </thead>\n",
       "  <tbody>\n",
       "    <tr>\n",
       "      <th>0</th>\n",
       "      <td>0</td>\n",
       "      <td>4393</td>\n",
       "      <td>1</td>\n",
       "      <td>1</td>\n",
       "      <td>1</td>\n",
       "    </tr>\n",
       "    <tr>\n",
       "      <th>1</th>\n",
       "      <td>1</td>\n",
       "      <td>3599</td>\n",
       "      <td>1</td>\n",
       "      <td>5</td>\n",
       "      <td>71</td>\n",
       "    </tr>\n",
       "  </tbody>\n",
       "</table>\n",
       "</div>"
      ],
      "text/plain": [
       "   fact_key  población  fecha_key  perfil_key  lugar_key\n",
       "0         0       4393          1           1          1\n",
       "1         1       3599          1           5         71"
      ]
     },
     "execution_count": 20,
     "metadata": {},
     "output_type": "execute_result"
    }
   ],
   "source": [
    "fact_table2.head(2)"
   ]
  },
  {
   "cell_type": "code",
   "execution_count": 21,
   "id": "9a45f1fe",
   "metadata": {},
   "outputs": [],
   "source": [
    "#Guardamos la tabla de hechos\n",
    "fact_table1.to_csv('data_generated/fact_table_muertes.csv',index = False, sep = \";\")\n",
    "fact_table2.to_csv('data_generated/fact_table_poblaci.csv',index = False, sep = \";\")"
   ]
  },
  {
   "cell_type": "code",
   "execution_count": null,
   "id": "dc2fb0de",
   "metadata": {},
   "outputs": [],
   "source": []
  },
  {
   "cell_type": "code",
   "execution_count": 22,
   "id": "ec17f6fd",
   "metadata": {},
   "outputs": [
    {
     "data": {
      "image/png": "[encoded data removed]",
      "text/plain": [
       "<Figure size 648x288 with 1 Axes>"
      ]
     },
     "metadata": {
      "needs_background": "light"
     },
     "output_type": "display_data"
    }
   ],
   "source": [
    "temp = df_main.groupby(by=[\"nombre_depto\"]).sum().reset_index().sort_values(by=\"num_casos\",ascending=False)\n",
    "plt.figure(figsize=(9,4))\n",
    "temp_fig = sns.barplot(y=\"num_casos\", x=\"nombre_depto\", data=temp, palette=\"Reds_d\", order = temp[\"nombre_depto\"][0:6])\n",
    "temp_fig.set(xlabel='Departamento', ylabel='Número de Casos')\n",
    "plt.show()"
   ]
  },
  {
   "cell_type": "code",
   "execution_count": 23,
   "id": "a45b8a62",
   "metadata": {},
   "outputs": [
    {
     "data": {
      "image/png": "[encoded data removed]",
      "text/plain": [
       "<Figure size 648x288 with 1 Axes>"
      ]
     },
     "metadata": {
      "needs_background": "light"
     },
     "output_type": "display_data"
    }
   ],
   "source": [
    "temp = df_main.groupby(by=[\"evento\"]).sum().reset_index().sort_values(by=\"num_casos\",ascending=False)\n",
    "plt.figure(figsize=(9,4))\n",
    "temp_fig = sns.barplot(y=\"evento\", x=\"num_casos\", data=temp, palette=\"Reds_d\", order = temp[\"evento\"][0:6])\n",
    "temp_fig.set(xlabel='evento', ylabel='Número de Casos')\n",
    "plt.show()"
   ]
  },
  {
   "cell_type": "code",
   "execution_count": null,
   "id": "f7b1ffd6",
   "metadata": {},
   "outputs": [],
   "source": []
  }
 ],
 "metadata": {
  "kernelspec": {
   "display_name": "Python 3 (ipykernel)",
   "language": "python",
   "name": "python3"
  },
  "language_info": {
   "codemirror_mode": {
    "name": "ipython",
    "version": 3
   },
   "file_extension": ".py",
   "mimetype": "text/x-python",
   "name": "python",
   "nbconvert_exporter": "python",
   "pygments_lexer": "ipython3",
   "version": "3.8.8"
  },
  "toc": {
   "base_numbering": 1,
   "nav_menu": {},
   "number_sections": true,
   "sideBar": true,
   "skip_h1_title": false,
   "title_cell": "Table of Contents",
   "title_sidebar": "Contents",
   "toc_cell": false,
   "toc_position": {},
   "toc_section_display": true,
   "toc_window_display": true
  }
 },
 "nbformat": 4,
 "nbformat_minor": 5
}
